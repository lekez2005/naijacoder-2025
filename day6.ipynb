{
 "cells": [
  {
   "cell_type": "code",
   "execution_count": null,
   "id": "b1beb125",
   "metadata": {},
   "outputs": [
    {
     "name": "stdout",
     "output_type": "stream",
     "text": [
      "Hello Tom\n"
     ]
    }
   ],
   "source": []
  },
  {
   "cell_type": "markdown",
   "id": "ddaa9945",
   "metadata": {},
   "source": [
    "### Classes\n",
    "A class is a blueprint for creating objects (instances). It defines\n",
    "\n",
    " - Attributes\n",
    " - Methods (functions)\n",
    "\n",
    "Think of a class as a template or a blueprint that describes the attributes and behaviors common to all objects of that class.\n"
   ]
  },
  {
   "cell_type": "markdown",
   "id": "908f127d",
   "metadata": {},
   "source": [
    "#### Defining a Class:\n",
    "\n",
    "In Python, a class is defined using the `class` keyword followed by the class name and a colon `:`. \n",
    "\n",
    "Inside the class definition, you define attributes and methods."
   ]
  },
  {
   "cell_type": "code",
   "execution_count": 18,
   "id": "f3b4d177",
   "metadata": {},
   "outputs": [
    {
     "name": "stdout",
     "output_type": "stream",
     "text": [
      "Hello, my name is Tom and I am 5 years old.\n",
      "Return is HELLO, MY NAME IS ADA AND I AM 10 YEARS OLD.\n",
      "Person1 age is 5\n"
     ]
    }
   ],
   "source": [
    "# Class definition\n",
    "class Person:\n",
    "    # Constructor (initializing attributes)\n",
    "    def __init__(self, name, age):\n",
    "        self.name = name   # Attribute: name\n",
    "        self.age = age     # Attribute: age\n",
    "    \n",
    "    # Method to greet\n",
    "    def greet(self):\n",
    "        return f\"Hello, my name is {self.name} and I am {self.age} years old.\"\n",
    "    \n",
    "    def print_age(self):\n",
    "        print(f\"The age is {self.age}\")\n",
    "\n",
    "person1 = Person(\"Tom\", 5)\n",
    "person2 = Person(\"Ada\", 10)\n",
    "\n",
    "print(person1.greet())\n",
    "result_person2 = person2.greet()\n",
    "print(f\"Return is {result_person2.upper()}\")\n",
    "\n",
    "print(f\"Person1 age is {person1.age}\")"
   ]
  },
  {
   "cell_type": "code",
   "execution_count": 21,
   "id": "c8045220",
   "metadata": {},
   "outputs": [
    {
     "name": "stdout",
     "output_type": "stream",
     "text": [
      "Hello, my name is Ada and I am 10 years old.\n",
      "Hello, my name is Tom and I am 5 years old.\n",
      "Hello, my name is Ada and I am 10 years old.\n"
     ]
    }
   ],
   "source": [
    "person1 = Person(\"Tom\", 5)\n",
    "person2 = Person(\"Ada\", 10)\n",
    "\n",
    "persons = [person2, person1, person2]\n",
    "\n",
    "for item in persons:\n",
    "    print(item.greet())"
   ]
  },
  {
   "cell_type": "code",
   "execution_count": 4,
   "id": "cd70d387",
   "metadata": {},
   "outputs": [
    {
     "name": "stdout",
     "output_type": "stream",
     "text": [
      "0\n",
      "1\n",
      "4\n",
      "9\n",
      "16\n",
      "25\n",
      "36\n",
      "49\n",
      "64\n",
      "81\n"
     ]
    }
   ],
   "source": [
    "# function that prints all the squares from 0 to input parameter n\n",
    "\n",
    "def print_squares(n):\n",
    "    for number in range(n):\n",
    "        print(number ** 2)\n",
    "\n",
    "print_squares(10)"
   ]
  },
  {
   "cell_type": "code",
   "execution_count": null,
   "id": "6689d874",
   "metadata": {},
   "outputs": [
    {
     "data": {
      "text/plain": [
       "'Hello, my name is Ay and I am 20 years old.'"
      ]
     },
     "execution_count": 2,
     "metadata": {},
     "output_type": "execute_result"
    }
   ],
   "source": [
    "import naijacoder\n",
    "\n",
    "person_3 = naijacoder.Person(\"Ay\", 20)\n",
    "person_3.greet()"
   ]
  },
  {
   "cell_type": "code",
   "execution_count": null,
   "id": "4f14228a",
   "metadata": {},
   "outputs": [],
   "source": [
    "# Create a module called test_module\n",
    "# In this module, create a class called Student\n",
    "# Class Student should have two attributes\n",
    "    # attribute name \n",
    "    # attribute year\n",
    "# Class Student should define two methods:\n",
    "    # greet() which should print the student's name and year\n",
    "    # print_year() which should print the student's year"
   ]
  }
 ],
 "metadata": {
  "kernelspec": {
   "display_name": "py3",
   "language": "python",
   "name": "python3"
  },
  "language_info": {
   "codemirror_mode": {
    "name": "ipython",
    "version": 3
   },
   "file_extension": ".py",
   "mimetype": "text/x-python",
   "name": "python",
   "nbconvert_exporter": "python",
   "pygments_lexer": "ipython3",
   "version": "3.13.5"
  }
 },
 "nbformat": 4,
 "nbformat_minor": 5
}
