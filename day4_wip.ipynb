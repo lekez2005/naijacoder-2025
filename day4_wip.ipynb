{
 "cells": [
  {
   "cell_type": "code",
   "execution_count": null,
   "id": "84625011",
   "metadata": {},
   "outputs": [],
   "source": [
    "def factorial(n):\n",
    "    # Base case: factorial of 0 is 1\n",
    "    if n == 0:\n",
    "        return 1\n",
    "    # Recursive case: n * factorial of (n-1)\n",
    "    else:\n",
    "        return n * factorial(n - 1)\n",
    "\n",
    "# Testing the factorial function\n",
    "for i in range(5):\n",
    "    result = factorial(i)\n",
    "    print(f\"Factorial of {i} = {result}\")"
   ]
  },
  {
   "cell_type": "markdown",
   "id": "f27a3ff3",
   "metadata": {},
   "source": [
    "## Recursion\n",
    "\n",
    "Recursion is a programming technique where a function calls itself to solve smaller instances of the same problem. It's particularly useful for problems that can be divided into similar sub-problems. Here’s an introduction to recursion in Python, including basic concepts, examples, and key considerations.\n",
    "\n",
    "### Basic Concepts\n",
    "\n",
    "1. **Base Case**: The condition under which the recursive function stops calling itself. Without a base case, the function would call itself indefinitely, leading to a stack overflow.\n",
    "2. **Recursive Case**: The part of the function where it calls itself with modified arguments, working towards the base case."
   ]
  },
  {
   "cell_type": "markdown",
   "id": "33630253",
   "metadata": {},
   "source": [
    "### Example: Fibonacci Sequence\n",
    "\n",
    "The Fibonacci sequence is a series of numbers where each number is the sum of the two preceding ones. It can be defined recursively as follows:\n",
    "\n",
    "- \\( F(0) = 0 \\) (base case)\n",
    "- \\( F(1) = 1 \\) (base case)\n",
    "- \\( F(n) = F(n-1) + F(n-2) \\) for \\( n > 1 \\) (recursive case)\n",
    "    -  F(2) = F(1) + F(0) = 1\n",
    "    -  F(3) = F(2) + F(1) = 2\n",
    "    -  F(4) = F(3) + F(2) = 3\n",
    "    -  F(15) = F(14) + F(13) = 610\n",
    "\n"
   ]
  },
  {
   "cell_type": "code",
   "execution_count": null,
   "id": "3102bc3a",
   "metadata": {},
   "outputs": [],
   "source": [
    "# Write a function fib(n) that takes in an integer n and returns its fibonnaci\n",
    "# number\n",
    "\n",
    "# Write a function to print the first n numbers in the fibonacci series using a\n",
    "# for loop. Do not use recursion e.g. for n = 4. You print 0, 1, 1, 2\n",
    "\n",
    "# write a function that returns the sum of all numbers less than n.\n",
    "#  e.g  sum_to_n(5) = 0 + 1 + 2 + 3 + 4"
   ]
  },
  {
   "cell_type": "code",
   "execution_count": null,
   "id": "f0215b35",
   "metadata": {},
   "outputs": [],
   "source": [
    "# write a function that returns the sum of all numbers less than n.\n",
    "#  e.g  sum_to_n(5) = 0 + 1 + 2 + 3 + 4\n",
    "\n"
   ]
  },
  {
   "cell_type": "code",
   "execution_count": 4,
   "id": "7f8e1190",
   "metadata": {},
   "outputs": [
    {
     "name": "stdout",
     "output_type": "stream",
     "text": [
      "16\n",
      "None\n",
      "256\n",
      "[16, None, 256]\n"
     ]
    }
   ],
   "source": [
    "def f1(x):\n",
    "    return x * x\n",
    "\n",
    "y1 = f1(4)\n",
    "y2 = print(y1)\n",
    "print(y2)\n",
    "y3 = f1(f1(4))\n",
    "print(y3)\n",
    "\n",
    "m = [y1, y2, y3]\n",
    "print(m)"
   ]
  },
  {
   "cell_type": "code",
   "execution_count": 9,
   "id": "801636a3",
   "metadata": {},
   "outputs": [
    {
     "name": "stdout",
     "output_type": "stream",
     "text": [
      "4\n",
      "5.0 5.0\n"
     ]
    }
   ],
   "source": [
    "def f1(x):\n",
    "    return x * x\n",
    "\n",
    "def f2(m, n):\n",
    "    m_square = m * m\n",
    "    n_square = n * n\n",
    "    sum_square = m_square + n_square\n",
    "    return sum_square ** 0.5\n",
    "\n",
    "y3 = f1(2)\n",
    "print(y3)\n",
    "y = f2(f1(2), 3)\n",
    "y2 = f2(4, 3)\n",
    "print(y, y2)"
   ]
  },
  {
   "cell_type": "code",
   "execution_count": 11,
   "id": "b88d24bf",
   "metadata": {},
   "outputs": [
    {
     "name": "stdout",
     "output_type": "stream",
     "text": [
      "[3, 4, 8, 1]\n",
      "9\n",
      "16\n",
      "64\n",
      "1\n",
      "Hello\n"
     ]
    }
   ],
   "source": [
    "m = [3, 4, 8, 1]\n",
    "print(m)\n",
    "\n",
    "for item in m:\n",
    "    square = item * item\n",
    "    print(square)\n",
    "\n",
    "print(\"Hello\")"
   ]
  },
  {
   "cell_type": "code",
   "execution_count": 12,
   "id": "cedd7278",
   "metadata": {},
   "outputs": [
    {
     "name": "stdout",
     "output_type": "stream",
     "text": [
      "0\n",
      "1\n",
      "4\n",
      "9\n"
     ]
    }
   ],
   "source": [
    "for item in range(4):\n",
    "    square = item * item\n",
    "    print(square)\n"
   ]
  },
  {
   "cell_type": "code",
   "execution_count": 21,
   "id": "996cea23",
   "metadata": {},
   "outputs": [
    {
     "data": {
      "text/plain": [
       "10"
      ]
     },
     "execution_count": 21,
     "metadata": {},
     "output_type": "execute_result"
    }
   ],
   "source": [
    "# write a function that returns the sum of all numbers less than n.\n",
    "#  e.g  sum_to_n(5) = 0 + 1 + 2 + 3 + 4\n",
    "\n",
    "def sum_to_n(n):\n",
    "    total = 0\n",
    "    for number in range(n):\n",
    "        total = total + number\n",
    "        # total += number\n",
    "    return total\n",
    "    \n",
    "\n",
    "sum_to_n(5)"
   ]
  },
  {
   "cell_type": "code",
   "execution_count": null,
   "id": "0eb82ac2",
   "metadata": {},
   "outputs": [],
   "source": [
    "# Write a function that prints all even numbers from 1 to `n` incuding n using a `for` loop.\n",
    "# even_numbers(6) -> 2, 4, 6\n",
    "\n",
    "\n",
    "# Write a function to print the first n numbers in the fibonacci series using a for loop. Do not use recursion e.g. for n = 4. You print 0, 1, 1, 2\n",
    "\n",
    "# Write a function that prints the multiplication table (up to 10) using nested `for` loops. \n",
    "\n"
   ]
  },
  {
   "cell_type": "code",
   "execution_count": 27,
   "id": "ddc226e1",
   "metadata": {},
   "outputs": [
    {
     "name": "stdout",
     "output_type": "stream",
     "text": [
      "0\n",
      "1\n",
      "1\n",
      "2\n"
     ]
    }
   ],
   "source": [
    "# Write a function to print the first n numbers in the fibonacci series using a for loop. Do not use recursion e.g. for n = 4. You print 0, 1, 1, 2\n",
    "\n",
    "# fib(0) = 0\n",
    "# fib(1) = 1\n",
    "# fib(2) = fib(0) + fib(1)\n",
    "# fib(10) = fib(8) + fib(9)\n",
    "# fib(n) = fib(n-2) + fib(n-1)\n",
    "\n",
    "def fib(n):\n",
    "    previous = 1\n",
    "    second_previous = 0\n",
    "    for i in range(n):\n",
    "        if i == 0:\n",
    "            print(0)\n",
    "        elif i == 1:\n",
    "            print(1)\n",
    "        else:\n",
    "            current = second_previous + previous\n",
    "            print(current)\n",
    "            second_previous = previous\n",
    "            previous = current\n",
    "            \n",
    "fib(4)\n"
   ]
  }
 ],
 "metadata": {
  "kernelspec": {
   "display_name": "py3",
   "language": "python",
   "name": "python3"
  },
  "language_info": {
   "codemirror_mode": {
    "name": "ipython",
    "version": 3
   },
   "file_extension": ".py",
   "mimetype": "text/x-python",
   "name": "python",
   "nbconvert_exporter": "python",
   "pygments_lexer": "ipython3",
   "version": "3.13.5"
  }
 },
 "nbformat": 4,
 "nbformat_minor": 5
}
