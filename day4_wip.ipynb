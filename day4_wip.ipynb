{
 "cells": [
  {
   "cell_type": "code",
   "execution_count": null,
   "id": "84625011",
   "metadata": {},
   "outputs": [],
   "source": [
    "def factorial(n):\n",
    "    # Base case: factorial of 0 is 1\n",
    "    if n == 0:\n",
    "        return 1\n",
    "    # Recursive case: n * factorial of (n-1)\n",
    "    else:\n",
    "        return n * factorial(n - 1)\n",
    "\n",
    "# Testing the factorial function\n",
    "for i in range(5):\n",
    "    result = factorial(i)\n",
    "    print(f\"Factorial of {i} = {result}\")"
   ]
  },
  {
   "cell_type": "markdown",
   "id": "f27a3ff3",
   "metadata": {},
   "source": [
    "## Recursion\n",
    "\n",
    "Recursion is a programming technique where a function calls itself to solve smaller instances of the same problem. It's particularly useful for problems that can be divided into similar sub-problems. Here’s an introduction to recursion in Python, including basic concepts, examples, and key considerations.\n",
    "\n",
    "### Basic Concepts\n",
    "\n",
    "1. **Base Case**: The condition under which the recursive function stops calling itself. Without a base case, the function would call itself indefinitely, leading to a stack overflow.\n",
    "2. **Recursive Case**: The part of the function where it calls itself with modified arguments, working towards the base case."
   ]
  },
  {
   "cell_type": "code",
   "execution_count": null,
   "id": "3102bc3a",
   "metadata": {},
   "outputs": [],
   "source": [
    "# Write a function fib(n) that takes in an integer n and returns its fibonnaci number"
   ]
  }
 ],
 "metadata": {
  "kernelspec": {
   "display_name": "Python 3",
   "language": "python",
   "name": "python3"
  },
  "language_info": {
   "name": "python",
   "version": "3.11.13"
  }
 },
 "nbformat": 4,
 "nbformat_minor": 5
}
