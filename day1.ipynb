{
 "cells": [
  {
   "cell_type": "code",
   "execution_count": 22,
   "id": "cb96a830-9ba7-40fa-8e20-8e11956552d7",
   "metadata": {},
   "outputs": [],
   "source": [
    "name = \"Alice\""
   ]
  },
  {
   "cell_type": "code",
   "execution_count": 24,
   "id": "a43eaa6a-4d24-4d88-abf1-f9116472c2c2",
   "metadata": {},
   "outputs": [],
   "source": [
    "# Must start with a letter or underscore\n",
    "age = 30\n",
    "# Can contain underscores\n",
    "half_age = age / 2 # 15\n",
    "_m = 5 # Starting with an underscore is fine"
   ]
  },
  {
   "cell_type": "code",
   "execution_count": 28,
   "id": "006891cb-126d-45d3-83f9-840b9309a4e2",
   "metadata": {},
   "outputs": [
    {
     "ename": "SyntaxError",
     "evalue": "invalid decimal literal (2339014387.py, line 2)",
     "output_type": "error",
     "traceback": [
      "  \u001b[36mCell\u001b[39m\u001b[36m \u001b[39m\u001b[32mIn[28]\u001b[39m\u001b[32m, line 2\u001b[39m\n\u001b[31m    \u001b[39m\u001b[31m5_number = 5\u001b[39m\n     ^\n\u001b[31mSyntaxError\u001b[39m\u001b[31m:\u001b[39m invalid decimal literal\n"
     ]
    }
   ],
   "source": [
    "# Cannot start with a number\n",
    "5_number = 5 "
   ]
  },
  {
   "cell_type": "code",
   "execution_count": 25,
   "id": "b1b09ad2-a9fb-4c79-b9fd-254f49b79210",
   "metadata": {},
   "outputs": [
    {
     "ename": "SyntaxError",
     "evalue": "invalid syntax (1231319364.py, line 3)",
     "output_type": "error",
     "traceback": [
      "  \u001b[36mCell\u001b[39m\u001b[36m \u001b[39m\u001b[32mIn[25]\u001b[39m\u001b[32m, line 3\u001b[39m\n\u001b[31m    \u001b[39m\u001b[31mif = 5 # cannot be a keyword\u001b[39m\n       ^\n\u001b[31mSyntaxError\u001b[39m\u001b[31m:\u001b[39m invalid syntax\n"
     ]
    }
   ],
   "source": [
    "# Cannot be a python keyword\n",
    "if_x = 5 # can contain keyword\n",
    "if = 5 # cannot be a keyword"
   ]
  },
  {
   "cell_type": "code",
   "execution_count": 29,
   "id": "72df3bc5-3f45-48dc-9f82-a0064e1d9635",
   "metadata": {},
   "outputs": [],
   "source": [
    "age = 5\n",
    "half_age = age / 2\n",
    "double_age = age * 2"
   ]
  },
  {
   "cell_type": "code",
   "execution_count": null,
   "id": "660fdcd4-5fea-4539-ad7d-98d2d901b008",
   "metadata": {},
   "outputs": [],
   "source": [
    "age = 30 # Integer\n",
    "average_grade = 85.5 # Float\n",
    "student_name = \"Bob\" # String\n",
    "is_passing = True # Boolean"
   ]
  },
  {
   "cell_type": "code",
   "execution_count": 5,
   "id": "e6aa5662-843c-4208-a9e2-a362a5d08b6a",
   "metadata": {},
   "outputs": [
    {
     "name": "stdout",
     "output_type": "stream",
     "text": [
      "30\n",
      "thirty\n"
     ]
    }
   ],
   "source": [
    "age = 30\n",
    "print(age)\n",
    "\n",
    "age = \"thirty\"\n",
    "print(age)"
   ]
  },
  {
   "cell_type": "code",
   "execution_count": 6,
   "id": "da195252-b139-4d49-b849-6c55e47fd953",
   "metadata": {},
   "outputs": [
    {
     "name": "stdout",
     "output_type": "stream",
     "text": [
      "Hello Alice\n"
     ]
    }
   ],
   "source": [
    "name = \"Alice\"\n",
    "print(\"Hello\", name)"
   ]
  },
  {
   "cell_type": "code",
   "execution_count": 7,
   "id": "e8210fb1-e913-4cae-ab29-4d0a86825cdf",
   "metadata": {},
   "outputs": [],
   "source": [
    "# This is a single line comment\n",
    "x = 5 # Assigning value 5 to variable x\n",
    "# This is another single line comment. It can be as long as I want it to be"
   ]
  },
  {
   "cell_type": "code",
   "execution_count": 15,
   "id": "a6801f4c-1dfd-4364-a416-b70fe2944586",
   "metadata": {},
   "outputs": [],
   "source": [
    "comment = \"\"\"\n",
    "This is a multi-line comment (docstring).\n",
    "It can span multiple lines and is used for documentation.\n",
    "It can be as long or short as necessary\n",
    "\"\"\"\n",
    "# Assigned to prevent Jupyter from printing it"
   ]
  },
  {
   "cell_type": "code",
   "execution_count": 16,
   "id": "aa95b46d",
   "metadata": {},
   "outputs": [],
   "source": [
    "# increment x by 1\n",
    "x = x + 1"
   ]
  },
  {
   "cell_type": "code",
   "execution_count": 42,
   "id": "6a1d7e64",
   "metadata": {},
   "outputs": [],
   "source": [
    "# This does stuff\n",
    "total = 42 * 3"
   ]
  },
  {
   "cell_type": "code",
   "execution_count": 43,
   "id": "4fad19bd",
   "metadata": {},
   "outputs": [],
   "source": [
    "# Calculate the area of a square\n",
    "length = 4\n",
    "width = 6\n",
    "area = length * width"
   ]
  },
  {
   "cell_type": "code",
   "execution_count": 44,
   "id": "7d81b192-502b-4c6b-975e-41f63c4aa7c5",
   "metadata": {},
   "outputs": [
    {
     "name": "stdout",
     "output_type": "stream",
     "text": [
      "Total price: 104.0\n"
     ]
    }
   ],
   "source": [
    "# Calculate total price including tax for the shopping cart\n",
    "price = 100\n",
    "tax_rate = 0.04  # NY sales tax rate (4%)\n",
    "total_price = price + (price * tax_rate)\n",
    "print(\"Total price:\", total_price)"
   ]
  }
 ],
 "metadata": {
  "kernelspec": {
   "display_name": "Python 3 (ipykernel)",
   "language": "python",
   "name": "python3"
  },
  "language_info": {
   "codemirror_mode": {
    "name": "ipython",
    "version": 3
   },
   "file_extension": ".py",
   "mimetype": "text/x-python",
   "name": "python",
   "nbconvert_exporter": "python",
   "pygments_lexer": "ipython3",
   "version": "3.13.5"
  }
 },
 "nbformat": 4,
 "nbformat_minor": 5
}
