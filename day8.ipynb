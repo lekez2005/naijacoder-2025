{
 "cells": [
  {
   "cell_type": "code",
   "execution_count": null,
   "id": "1b37ce26",
   "metadata": {},
   "outputs": [],
   "source": []
  },
  {
   "cell_type": "markdown",
   "id": "e7f6a147",
   "metadata": {},
   "source": [
    "## Searching Algorithms\n",
    "\n",
    "Locate elements within a data structure such as arrays, lists, trees, graphs, and more.\n",
    "\n",
    "e.g. The position of the number 10 in the list `[0, 20, -2, 10, 5]` is `3`\n",
    "\n",
    "In Python, these algorithms are crucial for efficiently finding specific items based on certain criteria.\n",
    "<br><br><br><br><br><br>"
   ]
  },
  {
   "cell_type": "markdown",
   "id": "7395b77a",
   "metadata": {},
   "source": [
    "### Linear Search\n",
    "\n",
    "Each element is checked in order.\n",
    "    - Check first element, second element, etc until you find it\n",
    "\n",
    "#### Example of Linear Search in Python:"
   ]
  },
  {
   "cell_type": "code",
   "execution_count": 14,
   "id": "8327789f",
   "metadata": {},
   "outputs": [
    {
     "data": {
      "text/plain": [
       "-1"
      ]
     },
     "execution_count": 14,
     "metadata": {},
     "output_type": "execute_result"
    }
   ],
   "source": [
    "def linear_search(arr, target):\n",
    "    # print(target)\n",
    "    solution = -1\n",
    "    for index in range(len(arr)):\n",
    "        x = arr[index]\n",
    "        if x == target:\n",
    "            solution = index\n",
    "            break\n",
    "    return solution\n",
    "    \n",
    "    # for item in arr:\n",
    "    #     print(item)\n",
    "\n",
    "my_list = [10, 30, 20, 5, 15]\n",
    "target_value = 6\n",
    "\n",
    "linear_search(my_list, target_value)"
   ]
  },
  {
   "cell_type": "markdown",
   "id": "f2e5d5a2",
   "metadata": {},
   "source": [
    "### Linear Search Time Complexity?"
   ]
  },
  {
   "cell_type": "markdown",
   "id": "58a6133e",
   "metadata": {},
   "source": [
    "### Linear Search Exercises\n",
    "- Implement a function `linear_search(arr, target)` that returns the index of `target` in the list `arr` using linear search. If `target` is not present, return `-1`.\n",
    "\n",
    "- Modify the function to also return how many times the comparison is made\n",
    "\n",
    "- Modify the function to return a list containing all the locations at which the target can be found. e.g. for arr = [0, 10, 4, 10, 5, 10], return [1, 3, 5] for target 10"
   ]
  },
  {
   "cell_type": "code",
   "execution_count": 15,
   "id": "b2f2c380",
   "metadata": {},
   "outputs": [
    {
     "data": {
      "text/plain": [
       "(2, 3)"
      ]
     },
     "execution_count": 15,
     "metadata": {},
     "output_type": "execute_result"
    }
   ],
   "source": [
    "def linear_search(arr, target):\n",
    "    solution = -1\n",
    "    count = 0\n",
    "    for index in range(len(arr)):\n",
    "        item = arr[index]\n",
    "        count += 1\n",
    "        if item == target:\n",
    "            return index, count\n",
    "    return -1, count\n",
    "\n",
    "arr = [0, 10, 4, 10, 5]\n",
    "# arr = list(range(8))\n",
    "# print(arr)\n",
    "linear_search(arr, 4)"
   ]
  },
  {
   "cell_type": "code",
   "execution_count": 16,
   "id": "c9f88fbc",
   "metadata": {},
   "outputs": [
    {
     "data": {
      "text/plain": [
       "[1, 3]"
      ]
     },
     "execution_count": 16,
     "metadata": {},
     "output_type": "execute_result"
    }
   ],
   "source": [
    "def linear_search(arr, target):\n",
    "    solution = []\n",
    "    count = 0\n",
    "    for index in range(len(arr)):\n",
    "        item = arr[index]\n",
    "        count += 1\n",
    "        if item == target:\n",
    "            solution.append(index)\n",
    "    return solution\n",
    "\n",
    "arr = [0, 10, 4, 10, 5]\n",
    "# arr = list(range(8))\n",
    "# print(arr)\n",
    "linear_search(arr, 10)"
   ]
  },
  {
   "cell_type": "markdown",
   "id": "df57e130",
   "metadata": {},
   "source": [
    "### Binary Search\n",
    "\n",
    "If we first sort the list, then intuitively, it should be faster to locate where element should be.\n",
    "\n",
    "Once sorted\n",
    "\n",
    "- repeatedly divide the search interval in half\n",
    "- If match the middle, then we found it!!\n",
    "- Otherwise, determine if we search to the left or to the right depending on whether it's bigger or smaller than middle element"
   ]
  },
  {
   "cell_type": "code",
   "execution_count": null,
   "id": "3e07c92b",
   "metadata": {},
   "outputs": [],
   "source": []
  },
  {
   "cell_type": "code",
   "execution_count": null,
   "id": "0a6ed453",
   "metadata": {},
   "outputs": [],
   "source": []
  },
  {
   "cell_type": "markdown",
   "id": "a869c4aa",
   "metadata": {},
   "source": [
    "### Binary Search Time Complexity?\n",
    "\n",
    "<br><br><br><br><br><br>"
   ]
  },
  {
   "cell_type": "markdown",
   "id": "fc9950a0",
   "metadata": {},
   "source": [
    "**Time Complexity**: $O(\\log n)$ - Logarithmic time complexity on a sorted list (where n is the number of elements in the sorted list).\n",
    "\n",
    "Worst case, we divide N by 2 until there is only 1 element left\n",
    "\n",
    "e.g. For N = 1000"
   ]
  },
  {
   "cell_type": "code",
   "execution_count": 17,
   "id": "228ffa46",
   "metadata": {},
   "outputs": [
    {
     "name": "stdout",
     "output_type": "stream",
     "text": [
      "N = 500 after 1 iterations\n",
      "N = 250 after 2 iterations\n",
      "N = 125 after 3 iterations\n",
      "N =  62 after 4 iterations\n",
      "N =  31 after 5 iterations\n",
      "N =  15 after 6 iterations\n",
      "N =   7 after 7 iterations\n",
      "N =   3 after 8 iterations\n",
      "N =   1 after 9 iterations\n"
     ]
    }
   ],
   "source": [
    "N = 1000\n",
    "count = 0\n",
    "while N > 1:\n",
    "    N = N // 2\n",
    "    count = count + 1\n",
    "    print(f\"N = {N:3d} after {count} iterations\")"
   ]
  },
  {
   "cell_type": "markdown",
   "id": "f27538c3",
   "metadata": {},
   "source": [
    "Mathematically, \n",
    "$$2^x = N$$\n",
    "\n",
    "Take $log_2$ of both sides\n",
    "\n",
    "$$ log_2{2^x} = log_2{N}$$\n",
    "$$ x*log_2{2} = log_2{N}$$\n",
    "$$ log_2{2} = 1 $$\n",
    "$$ x = log_2{N} $$\n"
   ]
  },
  {
   "cell_type": "markdown",
   "id": "a36f6833",
   "metadata": {},
   "source": [
    "### Key Considerations\n",
    "\n",
    "- **Data Structure**: The choice of searching algorithm often depends on the data structure being used (e.g., lists, trees, graphs).\n",
    "- **Performance**: Binary search is significantly faster than linear search for large datasets, especially when the data is sorted.\n",
    "    - Especially if the search will be performed again on the same list\n",
    "    - Incur sorting penalty just once \n",
    "- **Edge Cases**: Consider edge cases such as empty lists or arrays with duplicate values when implementing and testing searching algorithms."
   ]
  },
  {
   "cell_type": "markdown",
   "id": "a19b7188",
   "metadata": {},
   "source": [
    "### Binary Search Exercise\n",
    "\n",
    "- Implement a function `binary_search(arr, target)` that performs binary search on a sorted list `arr` to find the index of `target`. If `target` is not present, return `-1`.\n",
    "```python\n",
    "sorted_list = [5, 10, 15, 20, 30]\n",
    "target_value = 20\n",
    "binary_search(sorted_list, target_value)\n",
    "```\n",
    "    - Find the low index and the high index\n",
    "    - Use a while loop with condition low <= high\n",
    "        - Find the middle index mid_index = (high + low) // 2\n",
    "        - Find the middle value\n",
    "        - Check if middle value is less than target\n",
    "            - if equal, just return index\n",
    "            - if middle value is less, update low = middle_index + 1\n",
    "            - otherwise, update high = middle_index - 1\n",
    "        - return -1 if not false\n",
    "\n",
    "- Modify the function to always return the lowest index if the item is present multiple times\n",
    "\n",
    "- Modify the function to always return the highest index if the item is present multiple times"
   ]
  },
  {
   "cell_type": "code",
   "execution_count": null,
   "id": "611244e6",
   "metadata": {},
   "outputs": [],
   "source": []
  },
  {
   "cell_type": "markdown",
   "id": "d7da53e9",
   "metadata": {},
   "source": []
  },
  {
   "cell_type": "code",
   "execution_count": 18,
   "id": "0338a058",
   "metadata": {},
   "outputs": [
    {
     "data": {
      "text/plain": [
       "3"
      ]
     },
     "execution_count": 18,
     "metadata": {},
     "output_type": "execute_result"
    }
   ],
   "source": [
    "\n",
    "# - Find the low index and the high index\n",
    "# - Use a while loop with condition low <= high\n",
    "#     - Find the middle index mid_index = (high + low) // 2\n",
    "#     - Find the middle value\n",
    "#     - Check if middle value is less than target\n",
    "#         - if equal, just return index\n",
    "#         - if middle value is less, update low = middle_index + 1\n",
    "#         - otherwise, update high = middle_index - 1\n",
    "#     - return -1 if not false\n",
    "\n",
    "def binary_search(arr, target):\n",
    "    low_index = 0\n",
    "    high_index = len(arr) - 1\n",
    "    while low_index <= high_index:\n",
    "        middle_index = (low_index + high_index) // 2\n",
    "        middle_value = arr[middle_index]\n",
    "        if middle_value == target:\n",
    "            return middle_index\n",
    "        elif middle_value < target:\n",
    "            low_index += 1\n",
    "        else:\n",
    "            high_index  -= 1\n",
    "    return -1\n",
    "\n",
    "sorted_list = [5, 10, 12, 20, 20, 30]\n",
    "target_value = 20\n",
    "binary_search(sorted_list, target_value)"
   ]
  },
  {
   "cell_type": "code",
   "execution_count": 19,
   "id": "fe0a0dfd",
   "metadata": {},
   "outputs": [
    {
     "data": {
      "text/plain": [
       "4"
      ]
     },
     "execution_count": 19,
     "metadata": {},
     "output_type": "execute_result"
    }
   ],
   "source": [
    "# Modify the function to always return the highest index if the item is present multiple times\n",
    "\n",
    "def binary_search(arr, target):\n",
    "    low_index = 0\n",
    "    high_index = len(arr) - 1\n",
    "    while low_index <= high_index:\n",
    "        middle_index = (low_index + high_index) // 2\n",
    "        middle_value = arr[middle_index]\n",
    "        if middle_value == target:\n",
    "            max_index = middle_index\n",
    "            while max_index < len(arr):\n",
    "                if not( arr[max_index] == target_value):\n",
    "                    return max_index - 1\n",
    "                max_index = max_index + 1\n",
    "            return middle_index\n",
    "        elif middle_value < target:\n",
    "            low_index += 1\n",
    "        else:\n",
    "            high_index  -= 1\n",
    "    return -1\n",
    "\n",
    "sorted_list = [5, 10, 12, 20, 20, 30]\n",
    "target_value = 20\n",
    "binary_search(sorted_list, target_value)"
   ]
  },
  {
   "cell_type": "markdown",
   "id": "252056c7",
   "metadata": {},
   "source": [
    "### Bubble Sort Exercises\n",
    "\n",
    "1. **Implement Bubble Sort**\n",
    "   - **Problem**: Write a function `bubble_sort(arr)` that sorts an array `arr` using Bubble Sort. Can you use only while loops?\n",
    "\n",
    "2. **Optimized Bubble Sort**\n",
    "   - **Problem**: Modify the `bubble_sort` function to implement an optimized version of Bubble Sort that terminates early if no swaps are made in a pass. \n",
    "\n",
    "### How to do bubble sort:\n",
    "1. Start with the first element of the array.\n",
    "2. Compare the current element with the next element.\n",
    "3. If the current element is greater than the next element, swap them.\n",
    "4. Move to the next pair of elements (index 1 and 2, then 2 and 3, and so on) until you reach the end of the array.\n",
    "5. After one pass through the array, the largest element will be at the end.\n",
    "Repeat steps 1–5 \n",
    "1. After enough passes (equal to the array length), the array will be sorted."
   ]
  },
  {
   "cell_type": "code",
   "execution_count": 28,
   "id": "9c363b14",
   "metadata": {},
   "outputs": [
    {
     "name": "stdout",
     "output_type": "stream",
     "text": [
      "    [20, 9, 5, 1]\n",
      "    swap 20 and 9\n",
      "     [9, 20, 5, 1]\n",
      "    swap 20 and 5\n",
      "     [9, 5, 20, 1]\n",
      "    swap 20 and 1\n",
      "     [9, 5, 1, 20]\n",
      "    swap 9 and 5\n",
      "     [5, 9, 1, 20]\n",
      "    swap 9 and 1\n",
      "     [5, 1, 9, 20]\n",
      "    swap 5 and 1\n",
      "     [1, 5, 9, 20]\n",
      "[1, 5, 9, 20]\n"
     ]
    }
   ],
   "source": [
    "'''\n",
    "Bubble Sort\n",
    "- Compare adjacent elements\n",
    "- Swap them if they are in the wrong order\n",
    "- Repeat for every elemnt in the list\n",
    "'''\n",
    "\n",
    "def bubble_sort(lst):\n",
    "    print(f\"    {lst}\")\n",
    "    for i in range(len(lst)):\n",
    "        for j in range(len(lst) - i  - 1):\n",
    "            if lst[j] > lst[j+1]:\n",
    "                lst[j], lst[j+1] = lst[j+1], lst[j]\n",
    "                print(f\"    swap {lst[j+1]} and {lst[j]}\")\n",
    "            else:\n",
    "                print(\"    no swap\")\n",
    "            print(\"    \", arr)\n",
    "    print(lst)\n",
    "arr = [20,9,5,1]\n",
    "bubble_sort(arr)\n",
    "\n",
    "\n",
    "\n",
    "\n",
    "\n",
    "\n",
    "\n",
    "\n"
   ]
  },
  {
   "cell_type": "code",
   "execution_count": 37,
   "id": "108118bc",
   "metadata": {},
   "outputs": [
    {
     "name": "stdout",
     "output_type": "stream",
     "text": [
      "[2, 5, 4, 6, 1, 3]\n"
     ]
    }
   ],
   "source": [
    "'''\n",
    "Insertion\n",
    "- For each number, find the right position and insert it there\n",
    "'''\n",
    "[4,3,2]\n",
    "\n",
    "def insertion_sort(arr):\n",
    "    for i in range(1, len(arr)):\n",
    "        current_value = arr[i]\n",
    "        j = i - 1\n",
    "        while j >= 0 and arr[j] > current_value:\n",
    "            arr[j + 1] = arr[j]\n",
    "            j -= 1\n",
    "        \n",
    "        arr[j + 1] = current_value\n",
    "print(arr)\n",
    "\n",
    "# Example usage:\n",
    "arr = [5, 2, 4, 6, 1, 3]\n",
    "insertion_sort(arr)\n",
    "# print(\"Sorted array:\", arr)\n",
    "# insertion_sort([4,3,1,2])\n",
    "\n",
    "\n",
    "\n",
    "\n",
    "\n",
    "\n",
    "\n",
    "\n"
   ]
  }
 ],
 "metadata": {
  "kernelspec": {
   "display_name": "Python 3",
   "language": "python",
   "name": "python3"
  },
  "language_info": {
   "codemirror_mode": {
    "name": "ipython",
    "version": 3
   },
   "file_extension": ".py",
   "mimetype": "text/x-python",
   "name": "python",
   "nbconvert_exporter": "python",
   "pygments_lexer": "ipython3",
   "version": "3.11.13"
  }
 },
 "nbformat": 4,
 "nbformat_minor": 5
}
