{
 "cells": [
  {
   "cell_type": "markdown",
   "id": "a46bb217",
   "metadata": {},
   "source": [
    "## Python Operators\n",
    "--------------------\n",
    "\n",
    "### Mathematical Operators\n",
    "\n",
    "- Addition `+`\n",
    "- Subtraction `-`\n",
    "- Multiplication `*`\n",
    "- Division `/` \n",
    "- Floor division `//`\n",
    "- Modulus `%`\n",
    "- Raise to power (exponent) ($x^y$) `**`\n"
   ]
  },
  {
   "cell_type": "code",
   "execution_count": null,
   "id": "1926d2f2",
   "metadata": {},
   "outputs": [
    {
     "name": "stdout",
     "output_type": "stream",
     "text": [
      "\n"
     ]
    }
   ],
   "source": [
    "j = \"Hello\"\n",
    "print(j[4:-1:-1]) # [start:end:step]\n"
   ]
  },
  {
   "cell_type": "code",
   "execution_count": null,
   "id": "4efe1262",
   "metadata": {},
   "outputs": [
    {
     "name": "stdout",
     "output_type": "stream",
     "text": [
      "HELLO\n",
      "hello\n",
      "Hello\n",
      "Hello, Python!\n",
      "['Hello', 'World!']\n",
      "7\n"
     ]
    }
   ],
   "source": [
    "i = \"Hello\"\n",
    "print(i[0])\n",
    "print(i[-1])\n",
    "j = \"Hello, World!\"\n",
    "print(j[0:5])\n",
    "print(j[7:]) \n",
    "print(j[:5])\n",
    "print(j[::2])\n",
    "k = \"hello\".upper()\n",
    "print(k)\n",
    "l = \"HELLO\".lower()\n",
    "print(l) \n",
    "m = \"  Hello  \".strip()\n",
    "print(m)\n",
    "n = \"Hello, World!\".replace(\"World\", \"Python\")\n",
    "print(n) \n",
    "o = \"Hello, World!\".split(\", \")\n",
    "print(o) \n",
    "p = \"Hello, World!\".find(\"World\")\n",
    "print(p)  "
   ]
  },
  {
   "cell_type": "code",
   "execution_count": null,
   "id": "e0f89527",
   "metadata": {},
   "outputs": [],
   "source": [
    "# Equality\n",
    "is_equal = 5 == 5\n",
    "print(\"5 == 5 = \", is_equal)\n",
    "print(\"5 == 6 is \", 5 == 6)\n",
    "# Non-Equality\n",
    "print(\"5 != 6 = \", 5 != 6)\n",
    "print(\"5 != 5 = \", 5 != 5)\n",
    "# Greater than\n",
    "print(\"6 > 5 = \", 6 > 5)\n",
    "print(\"5 > 6 = \", 5 > 6)\n",
    "# Greater than or equal\n",
    "print(\"5 >= 5 = \", 5 >= 5)\n",
    "# Less than\n",
    "print(\"5 < 6 = \", 5 < 6)\n",
    "print(\"6 < 5 = \", 6 < 5)\n",
    "# Demonstrating equivalence (not x >= y is the same as x < y)\n",
    "x = 5\n",
    "y = 6\n",
    "print(\"not x >= y = \", not x >= y, \" = x < y = \", x < y)\n",
    "# Less than or equal\n",
    "print(\"5 <= 6 = \", 5 <= 6)\n",
    "print(\"not True = \", not True)\n",
    "print(\"not False = \", not False)\n",
    "print()\n",
    "print(5 == 5 and 6 > 5)\n",
    "print(4 > 5 and 6 > 4)\n",
    "print()\n",
    "print(6 > 4 or 4 > 6)\n",
    "print(4 > 6 or False)\n"
   ]
  },
  {
   "cell_type": "code",
   "execution_count": null,
   "id": "04b7b813",
   "metadata": {},
   "outputs": [
    {
     "name": "stdout",
     "output_type": "stream",
     "text": [
      "a\n"
     ]
    }
   ],
   "source": [
    "m = 10\n",
    "if m > 5:\n",
    "    if m < 20:\n",
    "        print(\"a\")\n",
    "    else:\n",
    "        print(\"b\")\n",
    "elif m > 2:\n",
    "    print(\"m is greater than 2\")\n",
    "else:\n",
    "    print(\"The else block\")"
   ]
  },
  {
   "cell_type": "code",
   "execution_count": 24,
   "id": "a35f2abc",
   "metadata": {},
   "outputs": [
    {
     "name": "stdout",
     "output_type": "stream",
     "text": [
      "Ran 0 times\n",
      "New value of num_runs = 1\n",
      "Ran 1 times\n",
      "New value of num_runs = 2\n",
      "Ran 2 times\n",
      "New value of num_runs = 3\n",
      "Ran 3 times\n",
      "New value of num_runs = 4\n",
      "Ran 4 times\n",
      "New value of num_runs = 5\n"
     ]
    }
   ],
   "source": [
    "num_runs = 0\n",
    "max_num_runs = 5\n",
    "\n",
    "while num_runs < max_num_runs:\n",
    "    print(f\"Ran {num_runs} times\")\n",
    "    num_runs = num_runs + 1\n",
    "    print(f\"New value of num_runs = {num_runs}\")"
   ]
  },
  {
   "cell_type": "code",
   "execution_count": null,
   "id": "45f6fe92",
   "metadata": {},
   "outputs": [
    {
     "name": "stdout",
     "output_type": "stream",
     "text": [
      "8\n"
     ]
    }
   ],
   "source": [
    "num_runs = 30\n",
    "\n",
    "a = 5 if num_runs < 20 else 8\n",
    "print(a)"
   ]
  },
  {
   "cell_type": "code",
   "execution_count": 45,
   "id": "68af1ea3",
   "metadata": {},
   "outputs": [
    {
     "name": "stdout",
     "output_type": "stream",
     "text": [
      "<class 'int'>\n",
      "5.0\n",
      "2\n"
     ]
    }
   ],
   "source": [
    "print(type(5))\n",
    "m = 5\n",
    "y = float(m)\n",
    "print(y)\n",
    "\n",
    "y = 5.8\n",
    "x = int(5/2)\n",
    "print(x)"
   ]
  },
  {
   "cell_type": "code",
   "execution_count": 43,
   "id": "9fab8972",
   "metadata": {},
   "outputs": [
    {
     "name": "stdout",
     "output_type": "stream",
     "text": [
      "Was false\n"
     ]
    }
   ],
   "source": [
    "m = 0\n",
    "if m:\n",
    "    print(m)\n",
    "else:\n",
    "    print(\"Was false\")"
   ]
  },
  {
   "cell_type": "code",
   "execution_count": 51,
   "id": "f5263e07",
   "metadata": {},
   "outputs": [
    {
     "name": "stdout",
     "output_type": "stream",
     "text": [
      "m is empty\n"
     ]
    }
   ],
   "source": [
    "m = \"\"\n",
    "if m:\n",
    "    print(\"m is True\")\n",
    "else:\n",
    "    print(\"m is empty\")"
   ]
  },
  {
   "cell_type": "code",
   "execution_count": 77,
   "id": "666a0624",
   "metadata": {},
   "outputs": [
    {
     "name": "stdout",
     "output_type": "stream",
     "text": [
      "4\n",
      "[1.0]\n",
      "[1.0, 2, 3, 5]\n",
      "[1.0, 3, 5]\n"
     ]
    }
   ],
   "source": [
    "m = [1.0, 2, 3, 4]\n",
    "print(len(m))\n",
    "y = m[0:1]\n",
    "print(y)\n",
    "if not y:\n",
    "    print(\"y is not empty\")\n",
    "\n",
    "m[-1] = 5\n",
    "print(m)\n",
    "m.remove(2)\n",
    "print(m)\n",
    "\n",
    "\n"
   ]
  },
  {
   "cell_type": "code",
   "execution_count": 82,
   "id": "3c374e43",
   "metadata": {},
   "outputs": [
    {
     "name": "stdout",
     "output_type": "stream",
     "text": [
      "6 is in list\n",
      "[0, 1, 2]\n"
     ]
    }
   ],
   "source": [
    "m = [0, 1, 2, 6]\n",
    "check = 6\n",
    "if check in m:\n",
    "    print(f\"{check} is in list\")\n",
    "    m.remove(check)\n",
    "print(m)"
   ]
  },
  {
   "cell_type": "code",
   "execution_count": 87,
   "id": "219339b3",
   "metadata": {},
   "outputs": [
    {
     "name": "stdout",
     "output_type": "stream",
     "text": [
      "[0, 1, 5, 8, 6]\n"
     ]
    }
   ],
   "source": [
    "m = [0, 1, 8, 6]\n",
    "m.insert(2, 5)\n",
    "print(m)"
   ]
  },
  {
   "cell_type": "code",
   "execution_count": 89,
   "id": "bf88695b",
   "metadata": {},
   "outputs": [
    {
     "name": "stdout",
     "output_type": "stream",
     "text": [
      "[6, 8, 1, 0]\n"
     ]
    }
   ],
   "source": [
    "m = [0, 1, 8, 6]\n",
    "m.reverse()\n",
    "print(m)"
   ]
  },
  {
   "cell_type": "code",
   "execution_count": null,
   "id": "84b17823",
   "metadata": {},
   "outputs": [],
   "source": [
    "# create a list with 10 elements\n",
    "# print the first element in the list\n",
    "# print the last element in the list\n",
    "# add element to the index 2\n",
    "# reverse the list"
   ]
  }
 ],
 "metadata": {
  "kernelspec": {
   "display_name": "py3",
   "language": "python",
   "name": "python3"
  },
  "language_info": {
   "codemirror_mode": {
    "name": "ipython",
    "version": 3
   },
   "file_extension": ".py",
   "mimetype": "text/x-python",
   "name": "python",
   "nbconvert_exporter": "python",
   "pygments_lexer": "ipython3",
   "version": "3.13.5"
  }
 },
 "nbformat": 4,
 "nbformat_minor": 5
}
