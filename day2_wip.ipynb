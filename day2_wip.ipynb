{
 "cells": [
  {
   "cell_type": "markdown",
   "id": "a46bb217",
   "metadata": {},
   "source": [
    "## Python Operators\n",
    "--------------------\n",
    "\n",
    "### Mathematical Operators\n",
    "\n",
    "- Addition `+`\n",
    "- Subtraction `-`\n",
    "- Multiplication `*`\n",
    "- Division `/` \n",
    "- Floor division `//`\n",
    "- Modulus `%`\n",
    "- Raise to power (exponent) ($x^y$) `**`\n"
   ]
  },
  {
   "cell_type": "code",
   "execution_count": null,
   "id": "1926d2f2",
   "metadata": {},
   "outputs": [
    {
     "name": "stdout",
     "output_type": "stream",
     "text": [
      "\n"
     ]
    }
   ],
   "source": [
    "j = \"Hello\"\n",
    "print(j[4:-1:-1]) # [start:end:step]\n"
   ]
  },
  {
   "cell_type": "code",
   "execution_count": null,
   "id": "4efe1262",
   "metadata": {},
   "outputs": [
    {
     "name": "stdout",
     "output_type": "stream",
     "text": [
      "HELLO\n",
      "hello\n",
      "Hello\n",
      "Hello, Python!\n",
      "['Hello', 'World!']\n",
      "7\n"
     ]
    }
   ],
   "source": [
    "i = \"Hello\"\n",
    "print(i[0])\n",
    "print(i[-1])\n",
    "j = \"Hello, World!\"\n",
    "print(j[0:5])\n",
    "print(j[7:]) \n",
    "print(j[:5])\n",
    "print(j[::2])\n",
    "k = \"hello\".upper()\n",
    "print(k)\n",
    "l = \"HELLO\".lower()\n",
    "print(l) \n",
    "m = \"  Hello  \".strip()\n",
    "print(m)\n",
    "n = \"Hello, World!\".replace(\"World\", \"Python\")\n",
    "print(n) \n",
    "o = \"Hello, World!\".split(\", \")\n",
    "print(o) \n",
    "p = \"Hello, World!\".find(\"World\")\n",
    "print(p)  "
   ]
  },
  {
   "cell_type": "code",
   "execution_count": null,
   "id": "e0f89527",
   "metadata": {},
   "outputs": [],
   "source": [
    "# Equality\n",
    "is_equal = 5 == 5\n",
    "print(\"5 == 5 = \", is_equal)\n",
    "print(\"5 == 6 is \", 5 == 6)\n",
    "# Non-Equality\n",
    "print(\"5 != 6 = \", 5 != 6)\n",
    "print(\"5 != 5 = \", 5 != 5)\n",
    "# Greater than\n",
    "print(\"6 > 5 = \", 6 > 5)\n",
    "print(\"5 > 6 = \", 5 > 6)\n",
    "# Greater than or equal\n",
    "print(\"5 >= 5 = \", 5 >= 5)\n",
    "# Less than\n",
    "print(\"5 < 6 = \", 5 < 6)\n",
    "print(\"6 < 5 = \", 6 < 5)\n",
    "# Demonstrating equivalence (not x >= y is the same as x < y)\n",
    "x = 5\n",
    "y = 6\n",
    "print(\"not x >= y = \", not x >= y, \" = x < y = \", x < y)\n",
    "# Less than or equal\n",
    "print(\"5 <= 6 = \", 5 <= 6)\n",
    "print(\"not True = \", not True)\n",
    "print(\"not False = \", not False)\n",
    "print()\n",
    "print(5 == 5 and 6 > 5)\n",
    "print(4 > 5 and 6 > 4)\n",
    "print()\n",
    "print(6 > 4 or 4 > 6)\n",
    "print(4 > 6 or False)\n"
   ]
  }
 ],
 "metadata": {
  "kernelspec": {
   "display_name": "Python 3",
   "language": "python",
   "name": "python3"
  },
  "language_info": {
   "codemirror_mode": {
    "name": "ipython",
    "version": 3
   },
   "file_extension": ".py",
   "mimetype": "text/x-python",
   "name": "python",
   "nbconvert_exporter": "python",
   "pygments_lexer": "ipython3",
   "version": "3.11.13"
  }
 },
 "nbformat": 4,
 "nbformat_minor": 5
}
