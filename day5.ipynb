{
 "cells": [
  {
   "cell_type": "code",
   "execution_count": 8,
   "id": "84ed24ec",
   "metadata": {},
   "outputs": [
    {
     "name": "stdout",
     "output_type": "stream",
     "text": [
      "11\n"
     ]
    }
   ],
   "source": [
    "def sum_list(numbers):\n",
    "    # Base Case\n",
    "    if not numbers:\n",
    "        return 0\n",
    "    # Recursive case\n",
    "    else:\n",
    "        return numbers[0] + sum_list(numbers[1:])\n",
    "n = [4,6,1]\n",
    "print(sum_list(n))\n"
   ]
  },
  {
   "cell_type": "code",
   "execution_count": null,
   "id": "fd4ca34c",
   "metadata": {},
   "outputs": [
    {
     "name": "stdout",
     "output_type": "stream",
     "text": [
      "[16, 5, 1, 36]\n",
      "[16, 36]\n"
     ]
    }
   ],
   "source": [
    "a = [4,5,1,6]\n",
    "b = [m**2 if m %2 == 0 else m for m in a ]\n",
    "c = [l**2 for l in a if l % 2 == 0]\n",
    "\n",
    "print(b)\n",
    "print(c)\n",
    "\n"
   ]
  },
  {
   "cell_type": "code",
   "execution_count": 15,
   "id": "02920aeb",
   "metadata": {},
   "outputs": [
    {
     "name": "stdout",
     "output_type": "stream",
     "text": [
      "{'a': 1, 'c': 3}\n"
     ]
    }
   ],
   "source": [
    "items = [(\"a\",1), (\"b\",2), (\"c\",3), (\"d\",4)]\n",
    "dictionary =  {k:v for k, v in items if v % 2 != 0}\n",
    "print(dictionary)"
   ]
  },
  {
   "cell_type": "code",
   "execution_count": null,
   "id": "4272a36b",
   "metadata": {},
   "outputs": [],
   "source": [
    "a = [4,5,1]\n",
    "b = []\n",
    "\n",
    "# Using `for i in range(len(a))` syntax\n",
    "for i in range(len(a)):\n",
    "    print(i)\n",
    "    a_i_squared = a[i]**2\n",
    "    b.append(a_i_squared)\n",
    "print(b)    \n",
    "\n",
    "# Using `for i in a` syntax\n",
    "c = []\n",
    "\n",
    "for i in a:\n",
    "    c.append(i**2)\n",
    "\n",
    "print(c)\n",
    "squares = [i for i in a]\n",
    "\n"
   ]
  },
  {
   "cell_type": "markdown",
   "id": "f33f7e8e",
   "metadata": {},
   "source": [
    "- Given `names = [\"alice\", \"bob\", \"charlie\"]`, create a new list with all names in\n",
    "uppercase.\n",
    "\n",
    "- Given `words = [\"apple\", \"banana\", \"cherry\"]`, make a list of the first letter\n",
    "of each word.\n",
    "\n",
    "- Create a dictionary where the keys are numbers from 3 to 10, and the values are\n",
    "the squares of the keys.\n",
    "\n",
    "- Given `scores = {\"Alice\": 85, \"Bob\": 70, \"Charlie\": 90}`, create a new dictionary containing only the entries with scores greater than 80.\n"
   ]
  }
 ],
 "metadata": {
  "kernelspec": {
   "display_name": "Python 3",
   "language": "python",
   "name": "python3"
  },
  "language_info": {
   "codemirror_mode": {
    "name": "ipython",
    "version": 3
   },
   "file_extension": ".py",
   "mimetype": "text/x-python",
   "name": "python",
   "nbconvert_exporter": "python",
   "pygments_lexer": "ipython3",
   "version": "3.11.13"
  }
 },
 "nbformat": 4,
 "nbformat_minor": 5
}
