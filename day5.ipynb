{
 "cells": [
  {
   "cell_type": "code",
   "execution_count": 8,
   "id": "84ed24ec",
   "metadata": {},
   "outputs": [
    {
     "name": "stdout",
     "output_type": "stream",
     "text": [
      "11\n"
     ]
    }
   ],
   "source": [
    "def sum_list(numbers):\n",
    "    # Base Case\n",
    "    if not numbers:\n",
    "        return 0\n",
    "    # Recursive case\n",
    "    else:\n",
    "        return numbers[0] + sum_list(numbers[1:])\n",
    "n = [4,6,1]\n",
    "print(sum_list(n))\n"
   ]
  },
  {
   "cell_type": "markdown",
   "id": "5ff44f63",
   "metadata": {},
   "source": [
    "### Comprehensions\n",
    "\n",
    "Python comprehensions provide a concise way to create sequences such as lists, dictionaries, and sets. They are often used for generating sequences iteratively in a single line of code.\n",
    "\n",
    "#### List Comprehension Example:"
   ]
  },
  {
   "cell_type": "code",
   "execution_count": 7,
   "id": "4272a36b",
   "metadata": {},
   "outputs": [
    {
     "name": "stdout",
     "output_type": "stream",
     "text": [
      "0\n",
      "1\n",
      "2\n",
      "[16, 25, 1]\n",
      "[16, 25, 1]\n"
     ]
    }
   ],
   "source": [
    "a = [4,5,1]\n",
    "b = []\n",
    "\n",
    "# Using `for i in range(len(a))` syntax\n",
    "for i in range(len(a)):\n",
    "    print(i)\n",
    "    a_i_squared = a[i]**2\n",
    "    b.append(a_i_squared)\n",
    "print(b)    \n",
    "\n",
    "# Using `for i in a` syntax\n",
    "c = []\n",
    "\n",
    "for i in a:\n",
    "    c.append(i**2)\n",
    "\n",
    "print(c)\n",
    "squares = [i for i in a]\n",
    "\n"
   ]
  },
  {
   "cell_type": "markdown",
   "id": "a52c4819",
   "metadata": {},
   "source": [
    "### Comprehensions\n",
    "\n",
    "Python comprehensions provide a concise way to create sequences such as lists, dictionaries, and sets. They are often used for generating sequences iteratively in a single line of code.\n",
    "\n",
    "#### List Comprehension Example:"
   ]
  },
  {
   "cell_type": "code",
   "execution_count": 8,
   "id": "1fef9b9d",
   "metadata": {},
   "outputs": [
    {
     "name": "stdout",
     "output_type": "stream",
     "text": [
      "[1, 4, 9, 16, 25]\n"
     ]
    }
   ],
   "source": [
    "# Creating a list of squares of numbers from 1 to 5\n",
    "squares = [x**2 for x in range(1, 6)]\n",
    "print(squares)  # Output: [1, 4, 9, 16, 25]"
   ]
  },
  {
   "cell_type": "code",
   "execution_count": 9,
   "id": "fd4ca34c",
   "metadata": {},
   "outputs": [
    {
     "name": "stdout",
     "output_type": "stream",
     "text": [
      "[16, 5, 1, 36]\n",
      "[16, 36]\n"
     ]
    }
   ],
   "source": [
    "a = [4,5,1,6]\n",
    "b = [m**2 if m %2 == 0 else m for m in a ]\n",
    "c = [l**2 for l in a if l % 2 == 0]\n",
    "\n",
    "print(b)\n",
    "print(c)"
   ]
  },
  {
   "cell_type": "markdown",
   "id": "2f00113e",
   "metadata": {},
   "source": [
    "#### Dictionary Comprehension Example:"
   ]
  },
  {
   "cell_type": "code",
   "execution_count": 10,
   "id": "ebedb15c",
   "metadata": {},
   "outputs": [
    {
     "name": "stdout",
     "output_type": "stream",
     "text": [
      "{1: 1, 3: 9, 5: 25, 10: 100}\n"
     ]
    }
   ],
   "source": [
    "# Dictionary of squares\n",
    "numbers = [1, 3, 5, 10]\n",
    "squares_dict = {number: number * number for number in numbers}\n",
    "print(squares_dict)"
   ]
  },
  {
   "cell_type": "code",
   "execution_count": 11,
   "id": "02920aeb",
   "metadata": {},
   "outputs": [
    {
     "name": "stdout",
     "output_type": "stream",
     "text": [
      "{'a': 1, 'c': 3}\n"
     ]
    }
   ],
   "source": [
    "items = [(\"a\",1), (\"b\",2), (\"c\",3), (\"d\",4)]\n",
    "dictionary =  {k:v for k, v in items if v % 2 != 0}\n",
    "print(dictionary)"
   ]
  },
  {
   "cell_type": "markdown",
   "id": "f33f7e8e",
   "metadata": {},
   "source": [
    "- Given `names = [\"alice\", \"bob\", \"charlie\"]`, create a new list using a for loop with all names in uppercase. Use `upper` function e.g. \"alice\".upper() is \"ALICE\"\n",
    "\n",
    "- Given `words = [\"apple\", \"banana\", \"cherry\"]`, make a list of the first letter\n",
    "of each word using a list comprehension.\n",
    "\n",
    "- Create a dictionary where the keys are numbers from 3 to 10, and the values are\n",
    "the squares of the keys using a dictionary comprehension.\n",
    "\n",
    "- Given `scores = {\"Alice\": 85, \"Bob\": 70, \"Charlie\": 90}`, create a new dictionary containing only the entries with scores greater than 80 using a dictionary comprehension.\n"
   ]
  },
  {
   "cell_type": "code",
   "execution_count": 17,
   "id": "95bce2ef",
   "metadata": {},
   "outputs": [
    {
     "name": "stdout",
     "output_type": "stream",
     "text": [
      "['ALICE', 'BOB', 'CHARLIE']\n"
     ]
    }
   ],
   "source": [
    "''' Given `names = [\"alice\", \"bob\", \"charlie\"]`, create a new list using a for loop with all names in uppercase. Use `upper` function e.g. \"alice\".upper() is \"ALICE\"\n",
    "'''\n",
    "\n",
    "names = [\"alice\", \"bob\", \"charlie\"]\n",
    "new_list = []\n",
    "for name in names:\n",
    "    new_list.append(name.upper())\n",
    "\n",
    "new_list_2 = [name.upper() for name in names]\n",
    "print(new_list_2)"
   ]
  },
  {
   "cell_type": "code",
   "execution_count": 19,
   "id": "1d1d5df9",
   "metadata": {},
   "outputs": [
    {
     "name": "stdout",
     "output_type": "stream",
     "text": [
      "['a', 'b', 'c']\n"
     ]
    }
   ],
   "source": [
    "\n",
    "''' Given `words = [\"apple\", \"banana\", \"cherry\"]`, make a list of the first letter\n",
    "of each word using a list comprehension.\n",
    "'''\n",
    "words = [\"apple\", \"banana\", \"cherry\"]\n",
    "new_list = [fdasfds[0] for fdasfds in words]\n",
    "print(new_list)"
   ]
  },
  {
   "cell_type": "code",
   "execution_count": 24,
   "id": "fa665eba",
   "metadata": {},
   "outputs": [
    {
     "data": {
      "text/plain": [
       "{3: 9, 4: 16, 5: 25, 6: 36, 7: 49, 8: 64, 9: 81, 10: 100}"
      ]
     },
     "execution_count": 24,
     "metadata": {},
     "output_type": "execute_result"
    }
   ],
   "source": [
    "\n",
    "''' Create a dictionary where the keys are numbers from 3 to 10, and the values are\n",
    "the squares of the keys using a dictionary comprehension.\n",
    "'''\n",
    "\n",
    "{i:i**2 for i in range(3,11)}"
   ]
  },
  {
   "cell_type": "code",
   "execution_count": 60,
   "id": "cdc94c07",
   "metadata": {},
   "outputs": [
    {
     "name": "stdout",
     "output_type": "stream",
     "text": [
      "Alice 85\n",
      "Charlie 90\n",
      "{'Alice': 85, 'Charlie': 90}\n"
     ]
    }
   ],
   "source": [
    "\n",
    "''' Given `scores = {\"Alice\": 85, \"Bob\": 70, \"Charlie\": 90}`, create a new dictionary containing only the entries with scores greater than 80 using a dictionary comprehension.\n",
    "'''\n",
    "scores = {\"Alice\": 85, \"Alice\": 85, \"Charlie\": 90}\n",
    "for k,v in scores.items(): \n",
    "    if v > 80:\n",
    "        print(k,v)\n",
    "scores_greater_than_80 = {k:v for k, v in scores.items() if v > 80}\n",
    "print(scores_greater_than_80)"
   ]
  },
  {
   "cell_type": "code",
   "execution_count": 58,
   "id": "b16221c4",
   "metadata": {},
   "outputs": [
    {
     "name": "stdout",
     "output_type": "stream",
     "text": [
      "<class 'str'>\n",
      "<class 'str'>\n",
      "<class 'float'>\n",
      "<class 'int'>\n",
      "<class 'tuple'>\n"
     ]
    }
   ],
   "source": [
    "# integer\n",
    "a = 4\n",
    "f = 6\n",
    "# float\n",
    "f = 1.5\n",
    "h = 0.5\n",
    "# boolean\n",
    "b = True\n",
    "a = False\n",
    "# string\n",
    "s = \"\"\n",
    "a = \"\"\"fedfs\"\"\"\n",
    "b = '''vxcv'''\n",
    "m = 'gdasgf'\n",
    "# tuple\n",
    "t = ()\n",
    "s = (\"fdsf\",2,0.0,False,(4,3),[4,1,1])\n",
    "# print(type(t))\n",
    "# dictionary\n",
    "s = {}\n",
    "af = {\"name\":\"Ada\", \"age\": 8.4, 5454.43434: 545.33, 3: \"cool\", (4,3): 43}\n",
    "for i in af:\n",
    "    print(type(i))\n"
   ]
  },
  {
   "cell_type": "markdown",
   "id": "e171a0f7",
   "metadata": {},
   "source": [
    "### Sets\n",
    "Sets in Python are unordered collections of **unique** elements, denoted by curly braces `{}`.\n",
    "An element is only present once in the set even if it is added multiple times\n",
    "\n",
    "##### Creating a Set\n"
   ]
  },
  {
   "cell_type": "code",
   "execution_count": null,
   "id": "61d1646a",
   "metadata": {},
   "outputs": [
    {
     "name": "stdout",
     "output_type": "stream",
     "text": [
      "[33, 2, 3, 4, 55, 56]\n",
      "{4: None, 56: None, 33: None, 55: None, 2: None, 3: None}\n"
     ]
    }
   ],
   "source": [
    "my = {4,\"4\",433.4,\"4\"}\n",
    "list_with_dups = [4,56,33,55,2,4,55,3]\n",
    "\n",
    "new_set = set(list_with_dups)\n",
    "new_list = list(new_set)\n",
    "print(new_list)\n"
   ]
  },
  {
   "cell_type": "code",
   "execution_count": 56,
   "id": "14941350",
   "metadata": {},
   "outputs": [
    {
     "name": "stdout",
     "output_type": "stream",
     "text": [
      "[0, 1, 2, 3, 4, 5, 6, 7, 8, 9, 10, 11, 12, 13, 14, 15, 16, 17, 18, 19, 20, 21, 22, 23, 24, 25, 26, 27, 28, 29, 30, 31, 32, 33, 34, 35, 36, 37, 38, 39, 40, 41, 42, 43, 44, 45, 46, 47, 48, 49, 50, 51, 52, 53, 54, 55, 56, 57, 58, 59, 60, 61, 62, 63, 64, 65, 66, 67, 68, 69, 70, 71, 72, 73, 74, 75, 76, 77, 78, 79, 80, 81, 82, 83, 84, 85, 86, 87, 88, 89, 90, 91, 92, 93, 94, 95, 96, 97, 98, 99]\n",
      "{0: 0, 1: 1, 2: 2, 3: 3, 4: 4, 5: 5, 6: 6, 7: 7, 8: 8, 9: 9, 10: 10, 11: 11, 12: 12, 13: 13, 14: 14, 15: 15, 16: 16, 17: 17, 18: 18, 19: 19, 20: 20, 21: 21, 22: 22, 23: 23, 24: 24, 25: 25, 26: 26, 27: 27, 28: 28, 29: 29, 30: 30, 31: 31, 32: 32, 33: 33, 34: 34, 35: 35, 36: 36, 37: 37, 38: 38, 39: 39, 40: 40, 41: 41, 42: 42, 43: 43, 44: 44, 45: 45, 46: 46, 47: 47, 48: 48, 49: 49, 50: 50, 51: 51, 52: 52, 53: 53, 54: 54, 55: 55, 56: 56, 57: 57, 58: 58, 59: 59, 60: 60, 61: 61, 62: 62, 63: 63, 64: 64, 65: 65, 66: 66, 67: 67, 68: 68, 69: 69, 70: 70, 71: 71, 72: 72, 73: 73, 74: 74, 75: 75, 76: 76, 77: 77, 78: 78, 79: 79, 80: 80, 81: 81, 82: 82, 83: 83, 84: 84, 85: 85, 86: 86, 87: 87, 88: 88, 89: 89, 90: 90, 91: 91, 92: 92, 93: 93, 94: 94, 95: 95, 96: 96, 97: 97, 98: 98, 99: 99}\n"
     ]
    }
   ],
   "source": [
    "my_list = list(i for i in range(0,100))\n",
    "my_dict = {i:i for i in range(0,100)}\n",
    "print(my_list)\n",
    "print(my_dict)\n"
   ]
  },
  {
   "cell_type": "markdown",
   "id": "f311fb18",
   "metadata": {},
   "source": [
    "##### Creating an empty set\n",
    "\n",
    "Use `set()` to create an empty set — using `{}` creates an empty dictionary."
   ]
  },
  {
   "cell_type": "code",
   "execution_count": null,
   "id": "fd5caf14",
   "metadata": {},
   "outputs": [],
   "source": [
    "my_set = set()"
   ]
  },
  {
   "cell_type": "markdown",
   "id": "e0758dbf",
   "metadata": {},
   "source": [
    "##### Adding elements to the set\n",
    "\n",
    "Use `.add()` to insert an element into a set. If the element already exists, it won’t be duplicated."
   ]
  },
  {
   "cell_type": "code",
   "execution_count": null,
   "id": "7fc3e52e",
   "metadata": {},
   "outputs": [],
   "source": [
    "my_set = set()\n",
    "my_set.add('pear')\n",
    "print(my_set)\n",
    "# Adding 'pear' again does nothing\n",
    "my_set.add('pear')\n",
    "print(my_set)"
   ]
  },
  {
   "cell_type": "markdown",
   "id": "806a3e99",
   "metadata": {},
   "source": [
    "##### Removing elements from the set\n",
    "\n",
    "Use `.remove(value)` to delete an element. Raises a `KeyError` if the element is not present."
   ]
  },
  {
   "cell_type": "code",
   "execution_count": null,
   "id": "7334acbf",
   "metadata": {},
   "outputs": [],
   "source": [
    "fruits = {'apple', 'banana', 'orange', 'pear'}\n",
    "fruits.remove('banana')\n",
    "print(fruits)  # Output: {'orange', 'apple', 'pear'}"
   ]
  },
  {
   "cell_type": "markdown",
   "id": "d278442f",
   "metadata": {},
   "source": [
    "##### Iterating through a set\n",
    "\n",
    "You can iterate over a set using a `for` loop, just like with lists, tuples, and other iterables."
   ]
  },
  {
   "cell_type": "code",
   "execution_count": null,
   "id": "9c79d744",
   "metadata": {},
   "outputs": [],
   "source": [
    "fruits = {'apple', 'banana', 'orange', 'pear'}\n",
    "for fruit in fruits:\n",
    "    print(fruit)"
   ]
  },
  {
   "cell_type": "markdown",
   "id": "8d63947c",
   "metadata": {},
   "source": [
    "##### Set Comprehension\n",
    "\n",
    "Set comprehensions allow you to build sets using a concise expression, similar to list or dictionary comprehensions."
   ]
  },
  {
   "cell_type": "code",
   "execution_count": null,
   "id": "aa199c32",
   "metadata": {},
   "outputs": [],
   "source": [
    "numbers = [1, 2, 3, 4, 5, 5, 4, 3, 2, 1]\n",
    "unique_numbers = {num for num in numbers}\n",
    "print(unique_numbers)  # Output: {1, 2, 3, 4, 5}"
   ]
  }
 ],
 "metadata": {
  "kernelspec": {
   "display_name": "Python 3",
   "language": "python",
   "name": "python3"
  },
  "language_info": {
   "codemirror_mode": {
    "name": "ipython",
    "version": 3
   },
   "file_extension": ".py",
   "mimetype": "text/x-python",
   "name": "python",
   "nbconvert_exporter": "python",
   "pygments_lexer": "ipython3",
   "version": "3.11.13"
  }
 },
 "nbformat": 4,
 "nbformat_minor": 5
}
