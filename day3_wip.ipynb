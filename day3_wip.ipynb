{
 "cells": [
  {
   "cell_type": "code",
   "execution_count": 6,
   "id": "709d57ea",
   "metadata": {},
   "outputs": [
    {
     "name": "stdout",
     "output_type": "stream",
     "text": [
      "Ran 0 times\n",
      "Ran 2 times\n",
      "Ran 4 times\n",
      "Ran 6 times\n",
      "Ran 8 times\n"
     ]
    }
   ],
   "source": [
    "# continue keyword\n",
    "num_runs = 0\n",
    "max_num_runs = 10\n",
    "while num_runs < max_num_runs:\n",
    "    if num_runs % 2 == 1:\n",
    "        num_runs += 1\n",
    "        continue\n",
    "    print(f\"Ran {num_runs} times\")\n",
    "    num_runs += 1\n",
    "    continue\n",
    "    print(f\"New value of num_runs = {num_runs}\")"
   ]
  },
  {
   "cell_type": "markdown",
   "id": "1c81c375",
   "metadata": {},
   "source": [
    "#### String Indexing and Slicing"
   ]
  },
  {
   "cell_type": "code",
   "execution_count": 1,
   "id": "53af990f",
   "metadata": {},
   "outputs": [
    {
     "name": "stdout",
     "output_type": "stream",
     "text": [
      "H\n",
      "o\n",
      "Hello\n",
      "World!\n",
      "Hello\n",
      "Hlo ol!\n"
     ]
    }
   ],
   "source": [
    "# Indexing (accessing a single character)\n",
    "i = \"Hello\"\n",
    "print(i[0])  # Output: H\n",
    "print(i[-1])  # Output: o\n",
    "\n",
    "# Slicing (extracting substrings with [start:end] or [start:end:step])\n",
    "j = \"Hello, World!\"\n",
    "# Characters 0 to 4\n",
    "print(j[0:5])  # Output: Hello\n",
    "\n",
    "# From character 7 to end\n",
    "print(j[7:])  # Output: World!\n",
    "\n",
    "# From start to character 4\n",
    "print(j[:5])  # Output: Hello\n",
    "\n",
    "# Every second character\n",
    "print(j[::2])  # Output: Hlo ol!"
   ]
  },
  {
   "cell_type": "markdown",
   "id": "5c51e260",
   "metadata": {},
   "source": [
    "#### String Methods"
   ]
  },
  {
   "cell_type": "code",
   "execution_count": 2,
   "id": "47d1319f",
   "metadata": {},
   "outputs": [
    {
     "name": "stdout",
     "output_type": "stream",
     "text": [
      "HELLO\n",
      "hello\n",
      "Hello\n",
      "Hello, Python!\n",
      "['Hello', 'World!']\n",
      "7\n"
     ]
    }
   ],
   "source": [
    "# Convert to uppercase\n",
    "k = \"hello\".upper()\n",
    "print(k)  # Output: HELLO\n",
    "\n",
    "# Convert to lowercase\n",
    "l = \"HELLO\".lower()\n",
    "print(l)  # Output: hello\n",
    "\n",
    "# Strip whitespace\n",
    "m = \"  Hello  \".strip()\n",
    "print(m)  # Output: Hello\n",
    "\n",
    "# Replace substrings\n",
    "n = \"Hello, World!\".replace(\"World\", \"Python\")\n",
    "print(n)  # Output: Hello, Python!\n",
    "\n",
    "# Split into a list\n",
    "o = \"Hello, World!\".split(\", \")\n",
    "print(o)  # Output: ['Hello', 'World!']\n",
    "\n",
    "# Find a substring\n",
    "p = \"Hello, World!\".find(\"World\")\n",
    "print(p)  # Output: 7 (index of the first occurrence of \"World\")"
   ]
  },
  {
   "cell_type": "code",
   "execution_count": 12,
   "id": "01629a46",
   "metadata": {},
   "outputs": [
    {
     "name": "stdout",
     "output_type": "stream",
     "text": [
      "Ran 0 times\n",
      "New value of num_runs = 1\n",
      "Ran 1 times\n",
      "New value of num_runs = 2\n",
      "Ran 2 times\n",
      "New value of num_runs = 3\n",
      "Ran 3 times\n",
      "New value of num_runs = 4\n",
      "Ran 4 times\n",
      "New value of num_runs = 5\n",
      "Ran 5 times\n",
      "New value of num_runs = 6\n",
      "Done with while loop\n"
     ]
    }
   ],
   "source": [
    "# continue keyword\n",
    "num_runs = 0\n",
    "max_num_runs = 10\n",
    "while num_runs < max_num_runs:\n",
    "    if num_runs == 6:\n",
    "        num_runs += 1\n",
    "        break\n",
    "        continue\n",
    "    print(f\"Ran {num_runs} times\")\n",
    "    num_runs += 1\n",
    "    print(f\"New value of num_runs = {num_runs}\")\n",
    "\n",
    "print(\"Done with while loop\")"
   ]
  },
  {
   "cell_type": "code",
   "execution_count": 16,
   "id": "28256d4b",
   "metadata": {},
   "outputs": [
    {
     "name": "stdout",
     "output_type": "stream",
     "text": [
      "Square root of 1 is 1.0\n",
      "Square root of 10 is 3.1622776601683795\n",
      "Square root of 8 is 2.8284271247461903\n",
      "Square root of -1 is (6.123233995736766e-17+1j)\n",
      "Square root of 5 is 2.23606797749979\n"
     ]
    }
   ],
   "source": [
    "m = [1, 10, 8, -1, 5]\n",
    "\n",
    "for item in m:\n",
    "    print(f\"Square root of {item} is {item**0.5}\")"
   ]
  },
  {
   "cell_type": "code",
   "execution_count": 20,
   "id": "099d0a56",
   "metadata": {},
   "outputs": [
    {
     "name": "stdout",
     "output_type": "stream",
     "text": [
      "Square of 3 = 9\n",
      "Square of 5 = 25\n",
      "Square of 7 = 49\n",
      "Square of 9 = 81\n"
     ]
    }
   ],
   "source": [
    "for number in range(3, 10, 2):\n",
    "    print(f\"Square of {number} = {number*number}\")\n",
    "\n",
    "\n",
    "# m = [1, 2, 3, 4, 5]\n",
    "# print(m[])"
   ]
  },
  {
   "cell_type": "code",
   "execution_count": 31,
   "id": "4b8266be",
   "metadata": {},
   "outputs": [
    {
     "name": "stdout",
     "output_type": "stream",
     "text": [
      "[4, 5, 6]\n",
      "['tom', 'tolu']\n",
      "['tom', 4, True, 0.5, [3, 5, 6]]\n",
      "tom\n",
      "[3, 5, 6]\n",
      "5\n"
     ]
    },
    {
     "ename": "TypeError",
     "evalue": "'int' object is not subscriptable",
     "output_type": "error",
     "traceback": [
      "\u001b[31m---------------------------------------------------------------------------\u001b[39m",
      "\u001b[31mTypeError\u001b[39m                                 Traceback (most recent call last)",
      "\u001b[36mCell\u001b[39m\u001b[36m \u001b[39m\u001b[32mIn[31]\u001b[39m\u001b[32m, line 10\u001b[39m\n\u001b[32m      8\u001b[39m \u001b[38;5;28mprint\u001b[39m(m[\u001b[38;5;28mlen\u001b[39m(m)-\u001b[32m1\u001b[39m])\n\u001b[32m      9\u001b[39m \u001b[38;5;28mprint\u001b[39m(m[-\u001b[32m1\u001b[39m][\u001b[32m1\u001b[39m])\n\u001b[32m---> \u001b[39m\u001b[32m10\u001b[39m \u001b[38;5;28mprint\u001b[39m(\u001b[43mm\u001b[49m\u001b[43m[\u001b[49m\u001b[32;43m1\u001b[39;49m\u001b[43m]\u001b[49m\u001b[43m[\u001b[49m\u001b[32;43m1\u001b[39;49m\u001b[43m:\u001b[49m\u001b[32;43m3\u001b[39;49m\u001b[43m]\u001b[49m)\n",
      "\u001b[31mTypeError\u001b[39m: 'int' object is not subscriptable"
     ]
    }
   ],
   "source": [
    "m = [4, 5, 6]\n",
    "print(m)\n",
    "m = [\"tom\", \"tolu\"]\n",
    "print(m)\n",
    "m = [\"tom\", 4, True, 0.5, [3, 5, 6]]\n",
    "print(m)\n",
    "print(m[0])\n",
    "print(m[len(m)-1])\n",
    "print(m[-1][1])\n",
    "print(m[1][1:3])"
   ]
  },
  {
   "cell_type": "code",
   "execution_count": 42,
   "id": "58b411f9",
   "metadata": {},
   "outputs": [
    {
     "name": "stdout",
     "output_type": "stream",
     "text": [
      "o\n",
      "False\n",
      "[2, 4, 10, 'tolu', 'chioma', False, ['tt', 5, False], [2, 5, 7]]\n"
     ]
    }
   ],
   "source": [
    "# Create a list that has 2 numbers, 3 strings, 1 boolean, 2 lists\n",
    "# use a for loop to print all the items in the list\n",
    "# print the second letter of the first string\n",
    "# print the last item in the first list\n",
    "# set the third element in the list to 10\n",
    "\n",
    "m = [2, 4, \"tom\", \"tolu\", \"chioma\", False, [\"tt\", 5, False], [2, 5, 7]]\n",
    "\n",
    "# for jj in m:\n",
    "#     print(jj)\n",
    "\n",
    "print(m[2][1])\n",
    "print(m[6][-1])\n",
    "m[2] = 10\n",
    "print(m)"
   ]
  },
  {
   "cell_type": "code",
   "execution_count": 47,
   "id": "e57ba8fc",
   "metadata": {},
   "outputs": [
    {
     "name": "stdout",
     "output_type": "stream",
     "text": [
      "<class 'list'>\n",
      "(1, 2, 5, 6)\n",
      "<class 'tuple'>\n",
      "6\n"
     ]
    }
   ],
   "source": [
    "m = [1, 2, 5, 6]\n",
    "print(type(m))\n",
    "m = (1, 2, 5, 6)\n",
    "print(m)\n",
    "print(type(m))\n",
    "print(m[3])"
   ]
  },
  {
   "cell_type": "code",
   "execution_count": null,
   "id": "641b8ae0",
   "metadata": {},
   "outputs": [
    {
     "name": "stdout",
     "output_type": "stream",
     "text": [
      "2\n",
      "1\n"
     ]
    }
   ],
   "source": [
    "m = [1, 5, 8, 20]\n",
    "print(m.index(8))\n",
    "m = (1, 5, 8, 20)\n",
    "print(m.index(5))"
   ]
  },
  {
   "cell_type": "code",
   "execution_count": 58,
   "id": "4791fb60",
   "metadata": {},
   "outputs": [
    {
     "name": "stdout",
     "output_type": "stream",
     "text": [
      "0\n",
      "(8, 20)\n",
      "1\n",
      "5\n",
      "8\n",
      "20\n",
      "1\n",
      "3\n",
      "5\n"
     ]
    }
   ],
   "source": [
    "m = (1, 5, 8, 20, 1, 3, 5)\n",
    "\n",
    "print(m.count(200))\n",
    "\n",
    "print(m[2:4])\n",
    "\n",
    "for item in m:\n",
    "    print(item)\n"
   ]
  },
  {
   "cell_type": "code",
   "execution_count": null,
   "id": "aeaa97e1",
   "metadata": {},
   "outputs": [
    {
     "name": "stdout",
     "output_type": "stream",
     "text": [
      "Age of Gift is 13\n",
      "Gender of Gift is F\n",
      "Age of Alice is 15\n",
      "Gender of Alice is F\n",
      "Age of Kwaku is 18\n",
      "Gender of Kwaku is M\n",
      "dict_keys(['name', 'age', 'gender'])\n"
     ]
    }
   ],
   "source": [
    "person1 = {'name': 'Alice', 'age': 15, 'gender': 'F'}\n",
    "\n",
    "person2 = {'name': 'Gift', 'age': 13, 'gender': 'F'}\n",
    "\n",
    "person3 = {'name': 'Kwaku', 'age': 18, 'gender': 'M'}\n",
    "\n",
    "persons = [person2, person1, person3]\n",
    "\n",
    "for person in persons:\n",
    "    print(f\"Age of {person['name']} is {person['age']}\")\n",
    "    gender = person['gender']\n",
    "    name = person['name']\n",
    "    print(f\"Gender of {name} is {gender}\")\n"
   ]
  },
  {
   "cell_type": "code",
   "execution_count": null,
   "id": "92273070",
   "metadata": {},
   "outputs": [
    {
     "name": "stdout",
     "output_type": "stream",
     "text": [
      "['name', 'age', 'gender']\n",
      "['Alice', 15, 'F']\n",
      "Alice\n",
      "15\n",
      "F\n"
     ]
    }
   ],
   "source": [
    "person1 = {'name': 'Alice', 'age': 15, 'gender': 'F'}\n",
    "\n",
    "person1_keys = list(person1.keys())\n",
    "print(person1_keys)\n",
    "person1_values = list(person1.values())\n",
    "print(person1_values)\n",
    "\n",
    "for item in person1.values():\n",
    "    print(item)\n",
    "    "
   ]
  },
  {
   "cell_type": "code",
   "execution_count": 83,
   "id": "ee6beaf6",
   "metadata": {},
   "outputs": [
    {
     "name": "stdout",
     "output_type": "stream",
     "text": [
      "{'name': 'Tom', 'age': 15, 'gender': 'F'}\n",
      "{'name': 'Tom', 'age': 20, 'gender': 'F'}\n",
      "20\n",
      "{'name': 'Tom', 'age': 20, 'gender': 'F', 'job': 'Engineer'}\n",
      "dict_keys(['name', 'age', 'gender', 'job'])\n",
      "dict_values(['Tom', 20, 'F', 'Engineer'])\n"
     ]
    }
   ],
   "source": [
    "person1 = {'name': 'Alice', 'age': 15, 'gender': 'F'}\n",
    "person1['name'] = 'Tom'\n",
    "print(person1)\n",
    "person1['age'] = 20\n",
    "print(person1)\n",
    "print(person1['age'])\n",
    "person1['job'] = 'Engineer'\n",
    "print(person1)\n",
    "print(person1.keys())\n",
    "print(person1.values())\n",
    "# print(person1.keys())"
   ]
  },
  {
   "cell_type": "code",
   "execution_count": null,
   "id": "14bcc8ea",
   "metadata": {},
   "outputs": [],
   "source": [
    "# Create a tuple with 3 numbers, 2 string, 2 booleans\n",
    "# print the last element in the tuple\n",
    "# Create a dictionary with 3 keys and 3 values\n",
    "# create a dictionary with keys name = 'Alice'\n",
    "# age = 15, job = 'Engineer'.\n",
    "# Use a for loop to print all the keys and values"
   ]
  },
  {
   "cell_type": "code",
   "execution_count": null,
   "id": "13c438a0",
   "metadata": {},
   "outputs": [
    {
     "name": "stdout",
     "output_type": "stream",
     "text": [
      "0 3\n",
      "1 64\n",
      "2 2\n"
     ]
    }
   ],
   "source": [
    "my_tuple = (42, 7, 3, \"hello\", \"world\", True, False)\n",
    "# print(my_tuple[6]) # False\n",
    "my_dict = {\n",
    "    \"fruit\": \"banana\",\n",
    "    \"count\": 12,\n",
    "    \"ripe\": True\n",
    "}\n",
    "my_dict[\"fruit\"] = \"apple\"\n",
    "# print(my_dict)\n",
    "person = {\n",
    "    \"name\": \"Alice\",\n",
    "    \"age\": 15,\n",
    "    \"job\": \"Engineer\"\n",
    "}\n",
    "\n",
    "for idx, val in enumerate([3,64,2]):\n",
    "    print(idx, val)\n",
    "\n"
   ]
  },
  {
   "cell_type": "markdown",
   "id": "c2211fa3",
   "metadata": {},
   "source": [
    "## Python Functions/Methods\n",
    "----------------------------\n",
    "\n",
    "A Python function is a block of code that performs a specific well-defined task\n",
    "\n",
    "Why define functions?\n",
    "- Reuse the same block of logic in multiple places\n",
    "- To make code more organized, readable, and maintainable\n",
    "\n",
    "##### Defining Functions\n",
    "A function definition includes\n",
    "- `def` keyword\n",
    "- function name\n",
    "- Optional arguments\n",
    "- Optional comment description\n",
    "- Optional `return` value\n",
    "\n",
    "Example:"
   ]
  },
  {
   "cell_type": "code",
   "execution_count": 3,
   "id": "9987d325",
   "metadata": {},
   "outputs": [
    {
     "name": "stdout",
     "output_type": "stream",
     "text": [
      "Hello, Favour!\n",
      "None\n"
     ]
    }
   ],
   "source": [
    "def greet(name):\n",
    "    \"\"\"This function prints a simple greeting.\"\"\"\n",
    "    print(f\"Hello, {name}!\")\n",
    "\n",
    "print(greet(\"Favour\"))  # Output: Hello, Favour!"
   ]
  },
  {
   "cell_type": "markdown",
   "id": "e02b0556",
   "metadata": {},
   "source": [
    "##### Return Values\n",
    "\n",
    "Notice `None` is also printed.\n",
    "\n",
    "- All functions return `None` if `return` is not specified\n",
    "\n",
    "##### Example function with return value"
   ]
  },
  {
   "cell_type": "code",
   "execution_count": 4,
   "id": "f53fbc1c",
   "metadata": {},
   "outputs": [
    {
     "name": "stdout",
     "output_type": "stream",
     "text": [
      "Hypotenuse of 3 and 4 is 5.0\n"
     ]
    }
   ],
   "source": [
    "def hypotenuse(a, b):\n",
    "    \"\"\"Returns the hypotenuse of two numbers a and b\"\"\"\n",
    "    a_square = a * a\n",
    "    b_square = b * b\n",
    "    sum_square = a_square + b_square\n",
    "    # Raising to power 0.5 does square root\n",
    "    return sum_square**0.5\n",
    "\n",
    "hypotenuse_3_4 = hypotenuse(3, 4)\n",
    "print(f\"Hypotenuse of 3 and 4 is {hypotenuse_3_4}\")"
   ]
  },
  {
   "cell_type": "markdown",
   "id": "f86a25b5",
   "metadata": {},
   "source": [
    "##### Functions with Default Arguments\n",
    "\n",
    "You can assign default values to parameters, making them optional when calling the function."
   ]
  },
  {
   "cell_type": "code",
   "execution_count": 5,
   "id": "843ca540",
   "metadata": {},
   "outputs": [
    {
     "name": "stdout",
     "output_type": "stream",
     "text": [
      "Hello, Alice!\n",
      "Hi, Bob!\n"
     ]
    }
   ],
   "source": [
    "def greet(name, greeting=\"Hello\"):\n",
    "    return f\"{greeting}, {name}!\"\n",
    "\n",
    "# Using the function\n",
    "print(greet(\"Alice\"))           # Output: Hello, Alice!\n",
    "print(greet(\"Bob\", \"Hi\"))       # Output: Hi, Bob!"
   ]
  },
  {
   "cell_type": "markdown",
   "id": "e7c45229",
   "metadata": {},
   "source": [
    "##### Calling Functions with Named Arguments\n",
    "\n",
    "You can call functions using named arguments (keyword arguments), allowing you to pass them in any order."
   ]
  },
  {
   "cell_type": "code",
   "execution_count": 6,
   "id": "87385100",
   "metadata": {},
   "outputs": [
    {
     "name": "stdout",
     "output_type": "stream",
     "text": [
      "Hi, Bob!\n",
      "Hi, Bob!\n"
     ]
    }
   ],
   "source": [
    "def greet(name, greeting):\n",
    "    return f\"{greeting}, {name}!\"\n",
    "\n",
    "# Using the function\n",
    "print(greet(name = \"Bob\", greeting=\"Hi\"))       # Output: Hi, Bob!\n",
    "print(greet(greeting = \"Hi\", name=\"Bob\"))       # Output: Hi, Bob!"
   ]
  },
  {
   "cell_type": "code",
   "execution_count": 26,
   "id": "1aa2ee58",
   "metadata": {},
   "outputs": [
    {
     "name": "stdout",
     "output_type": "stream",
     "text": [
      "554\n"
     ]
    }
   ],
   "source": [
    "def add(a,b=8):\n",
    "    return a + b\n",
    "l = add(a=545, b=9)\n",
    "print(l)"
   ]
  },
  {
   "cell_type": "code",
   "execution_count": null,
   "id": "53fd16d1",
   "metadata": {},
   "outputs": [
    {
     "name": "stdout",
     "output_type": "stream",
     "text": [
      "1\n",
      "2\n",
      "7\n",
      "6\n",
      "4\n",
      "1\n"
     ]
    }
   ],
   "source": [
    "a = \"mom\" # palindrome\n",
    "# (start,end,step)\n",
    "for i in range(len(a)-1,-1,-1):\n",
    "    print(a[i])\n",
    "    # print(i)\n",
    "    # for j in range(7, 10):\n",
    "    #     print(i, j)"
   ]
  },
  {
   "cell_type": "code",
   "execution_count": 39,
   "id": "b20a3649",
   "metadata": {},
   "outputs": [
    {
     "name": "stdout",
     "output_type": "stream",
     "text": [
      "Hello NaijaCoder\n"
     ]
    }
   ],
   "source": [
    "def greet():\n",
    "    return \"Hello NaijaCoder\"\n",
    "\n",
    "print(greet())\n"
   ]
  },
  {
   "cell_type": "code",
   "execution_count": null,
   "id": "d8bdac81",
   "metadata": {},
   "outputs": [
    {
     "name": "stdout",
     "output_type": "stream",
     "text": [
      "a = 9\n",
      "b = 3\n",
      "12\n",
      "a = 30\n",
      "b = 40\n",
      "70\n"
     ]
    }
   ],
   "source": [
    "\n",
    "# Write a function add(a, b) that returns the sum of a and b\n",
    "# Write a function is_even(n) that returns True if n is even, else False\n",
    "# Define a function reverse_string(s) that returns the reverse of a string\n",
    "# Write a function range_print(a, b) that prints numbers in the range from a to b.\n",
    "# Start from the bigger number and go down by 2 to the lower number\n",
    "\n",
    "def add(a, b):\n",
    "    print(f\"a = {a}\")\n",
    "    print(f\"b = {b}\")\n",
    "    return a + b\n",
    "\n",
    "print(add(9, 3))\n",
    "print(add(a=30, b=40))"
   ]
  },
  {
   "cell_type": "code",
   "execution_count": null,
   "id": "ccf059c8",
   "metadata": {},
   "outputs": [],
   "source": []
  },
  {
   "cell_type": "code",
   "execution_count": 12,
   "id": "9496e62a",
   "metadata": {},
   "outputs": [
    {
     "name": "stdout",
     "output_type": "stream",
     "text": [
      "False\n",
      "True\n"
     ]
    }
   ],
   "source": [
    "# Write a function is_even(n) that returns True if n is even, else False\n",
    "\n",
    "def is_even(n):\n",
    "    return n % 2 == 0\n",
    "    # if n % 2 == 0:\n",
    "    #     return True\n",
    "    # else:\n",
    "    #     return False\n",
    "\n",
    "print(is_even(9))\n",
    "print(is_even(20))"
   ]
  },
  {
   "cell_type": "code",
   "execution_count": 23,
   "id": "c07a2c6f",
   "metadata": {},
   "outputs": [
    {
     "name": "stdout",
     "output_type": "stream",
     "text": [
      "epoh\n"
     ]
    }
   ],
   "source": [
    "# Define a function reverse_string(s) that returns the reverse of a string\n",
    "\n",
    "def reverse_string(s):\n",
    "    # return s[::-1]\n",
    "    res = \"\"\n",
    "    for a in range(len(s)-1, -1, -1):\n",
    "        res = res + s[a]\n",
    "        # res += s[r]\n",
    "    return res\n",
    "\n",
    "print(reverse_string(\"hope\"))"
   ]
  },
  {
   "cell_type": "code",
   "execution_count": null,
   "id": "61ffd966",
   "metadata": {},
   "outputs": [],
   "source": []
  }
 ],
 "metadata": {
  "kernelspec": {
   "display_name": "py3",
   "language": "python",
   "name": "python3"
  },
  "language_info": {
   "codemirror_mode": {
    "name": "ipython",
    "version": 3
   },
   "file_extension": ".py",
   "mimetype": "text/x-python",
   "name": "python",
   "nbconvert_exporter": "python",
   "pygments_lexer": "ipython3",
   "version": "3.13.5"
  }
 },
 "nbformat": 4,
 "nbformat_minor": 5
}
