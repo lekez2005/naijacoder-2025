{
 "cells": [
  {
   "cell_type": "code",
   "execution_count": 6,
   "id": "709d57ea",
   "metadata": {},
   "outputs": [
    {
     "name": "stdout",
     "output_type": "stream",
     "text": [
      "Ran 0 times\n",
      "Ran 2 times\n",
      "Ran 4 times\n",
      "Ran 6 times\n",
      "Ran 8 times\n"
     ]
    }
   ],
   "source": [
    "# continue keyword\n",
    "num_runs = 0\n",
    "max_num_runs = 10\n",
    "while num_runs < max_num_runs:\n",
    "    if num_runs % 2 == 1:\n",
    "        num_runs += 1\n",
    "        continue\n",
    "    print(f\"Ran {num_runs} times\")\n",
    "    num_runs += 1\n",
    "    continue\n",
    "    print(f\"New value of num_runs = {num_runs}\")"
   ]
  },
  {
   "cell_type": "code",
   "execution_count": 12,
   "id": "01629a46",
   "metadata": {},
   "outputs": [
    {
     "name": "stdout",
     "output_type": "stream",
     "text": [
      "Ran 0 times\n",
      "New value of num_runs = 1\n",
      "Ran 1 times\n",
      "New value of num_runs = 2\n",
      "Ran 2 times\n",
      "New value of num_runs = 3\n",
      "Ran 3 times\n",
      "New value of num_runs = 4\n",
      "Ran 4 times\n",
      "New value of num_runs = 5\n",
      "Ran 5 times\n",
      "New value of num_runs = 6\n",
      "Done with while loop\n"
     ]
    }
   ],
   "source": [
    "# continue keyword\n",
    "num_runs = 0\n",
    "max_num_runs = 10\n",
    "while num_runs < max_num_runs:\n",
    "    if num_runs == 6:\n",
    "        num_runs += 1\n",
    "        break\n",
    "        continue\n",
    "    print(f\"Ran {num_runs} times\")\n",
    "    num_runs += 1\n",
    "    print(f\"New value of num_runs = {num_runs}\")\n",
    "\n",
    "print(\"Done with while loop\")"
   ]
  },
  {
   "cell_type": "code",
   "execution_count": 16,
   "id": "28256d4b",
   "metadata": {},
   "outputs": [
    {
     "name": "stdout",
     "output_type": "stream",
     "text": [
      "Square root of 1 is 1.0\n",
      "Square root of 10 is 3.1622776601683795\n",
      "Square root of 8 is 2.8284271247461903\n",
      "Square root of -1 is (6.123233995736766e-17+1j)\n",
      "Square root of 5 is 2.23606797749979\n"
     ]
    }
   ],
   "source": [
    "m = [1, 10, 8, -1, 5]\n",
    "\n",
    "for item in m:\n",
    "    print(f\"Square root of {item} is {item**0.5}\")"
   ]
  },
  {
   "cell_type": "code",
   "execution_count": 20,
   "id": "099d0a56",
   "metadata": {},
   "outputs": [
    {
     "name": "stdout",
     "output_type": "stream",
     "text": [
      "Square of 3 = 9\n",
      "Square of 5 = 25\n",
      "Square of 7 = 49\n",
      "Square of 9 = 81\n"
     ]
    }
   ],
   "source": [
    "for number in range(3, 10, 2):\n",
    "    print(f\"Square of {number} = {number*number}\")\n",
    "\n",
    "\n",
    "# m = [1, 2, 3, 4, 5]\n",
    "# print(m[])"
   ]
  },
  {
   "cell_type": "code",
   "execution_count": 31,
   "id": "4b8266be",
   "metadata": {},
   "outputs": [
    {
     "name": "stdout",
     "output_type": "stream",
     "text": [
      "[4, 5, 6]\n",
      "['tom', 'tolu']\n",
      "['tom', 4, True, 0.5, [3, 5, 6]]\n",
      "tom\n",
      "[3, 5, 6]\n",
      "5\n"
     ]
    },
    {
     "ename": "TypeError",
     "evalue": "'int' object is not subscriptable",
     "output_type": "error",
     "traceback": [
      "\u001b[31m---------------------------------------------------------------------------\u001b[39m",
      "\u001b[31mTypeError\u001b[39m                                 Traceback (most recent call last)",
      "\u001b[36mCell\u001b[39m\u001b[36m \u001b[39m\u001b[32mIn[31]\u001b[39m\u001b[32m, line 10\u001b[39m\n\u001b[32m      8\u001b[39m \u001b[38;5;28mprint\u001b[39m(m[\u001b[38;5;28mlen\u001b[39m(m)-\u001b[32m1\u001b[39m])\n\u001b[32m      9\u001b[39m \u001b[38;5;28mprint\u001b[39m(m[-\u001b[32m1\u001b[39m][\u001b[32m1\u001b[39m])\n\u001b[32m---> \u001b[39m\u001b[32m10\u001b[39m \u001b[38;5;28mprint\u001b[39m(\u001b[43mm\u001b[49m\u001b[43m[\u001b[49m\u001b[32;43m1\u001b[39;49m\u001b[43m]\u001b[49m\u001b[43m[\u001b[49m\u001b[32;43m1\u001b[39;49m\u001b[43m:\u001b[49m\u001b[32;43m3\u001b[39;49m\u001b[43m]\u001b[49m)\n",
      "\u001b[31mTypeError\u001b[39m: 'int' object is not subscriptable"
     ]
    }
   ],
   "source": [
    "m = [4, 5, 6]\n",
    "print(m)\n",
    "m = [\"tom\", \"tolu\"]\n",
    "print(m)\n",
    "m = [\"tom\", 4, True, 0.5, [3, 5, 6]]\n",
    "print(m)\n",
    "print(m[0])\n",
    "print(m[len(m)-1])\n",
    "print(m[-1][1])\n",
    "print(m[1][1:3])"
   ]
  },
  {
   "cell_type": "code",
   "execution_count": null,
   "id": "58b411f9",
   "metadata": {},
   "outputs": [],
   "source": [
    "# Create a list that has 2 numbers, 3 strings, 1 boolean, 2 lists\n",
    "# use a for loop to print all the items in the list\n",
    "# print the second letter of the first string\n",
    "# print the last item in the first list\n",
    "# set the third element in the list to 10"
   ]
  }
 ],
 "metadata": {
  "kernelspec": {
   "display_name": "py3",
   "language": "python",
   "name": "python3"
  },
  "language_info": {
   "codemirror_mode": {
    "name": "ipython",
    "version": 3
   },
   "file_extension": ".py",
   "mimetype": "text/x-python",
   "name": "python",
   "nbconvert_exporter": "python",
   "pygments_lexer": "ipython3",
   "version": "3.13.5"
  }
 },
 "nbformat": 4,
 "nbformat_minor": 5
}
