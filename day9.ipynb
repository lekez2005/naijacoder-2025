{
 "cells": [
  {
   "cell_type": "markdown",
   "id": "e8a7a1db",
   "metadata": {},
   "source": [
    "### Time Complexity Revision\n",
    "\n",
    "What is the time complexity of the following code?\n",
    "\n",
    "```python\n",
    "arr = [1, 2, 3, 4, 5]\n",
    "print(arr[2])\n",
    "```\n",
    "\n",
    "---\n",
    "\n",
    "If you loop through all elements of an array of size `n` once and print them, what is the time complexity?\n",
    "\n",
    "```python\n",
    "for x in arr:\n",
    "    print(x)\n",
    "```\n",
    "---\n",
    "\n",
    "Determine the time complexity:\n",
    "\n",
    "```python\n",
    "for i in range(n):\n",
    "    for j in range(n):\n",
    "        print(i, j)\n",
    "```\n",
    "---\n",
    "\n",
    "What is the time complexity of the following nested loops with different input sizes `n` and `m`?\n",
    "\n",
    "```python\n",
    "for i in range(n):\n",
    "    for j in range(m):\n",
    "        print(i, j)\n",
    "```\n",
    "\n",
    "---\n",
    "\n",
    "Identify the complexity:\n",
    "\n",
    "```python\n",
    "def binary_search(arr, target):\n",
    "    left, right = 0, len(arr) - 1\n",
    "    while left <= right:\n",
    "        mid = (left + right) // 2\n",
    "        if arr[mid] == target:\n",
    "            return mid\n",
    "        elif arr[mid] < target:\n",
    "            left = mid + 1\n",
    "        else:\n",
    "            right = mid - 1\n",
    "    return -1\n",
    "\n",
    "O(log n)\n",
    "```\n",
    "\n",
    "---\n",
    "\n",
    "What is the time complexity of the following code, which finds all factors of a\n",
    "number `n`?\n",
    "\n",
    "\n",
    "\n",
    "```python\n",
    "import math\n",
    "\n",
    "for i in range(1, int(math.sqrt(n)) + 1):\n",
    "    if n % i == 0:\n",
    "        print(i, n // i)\n",
    "```\n",
    "---\n",
    "\n",
    "Which of these has better performance for large n?\n",
    "- O(n log n)\n",
    "- O(n²)"
   ]
  },
  {
   "cell_type": "markdown",
   "id": "9ec523b4",
   "metadata": {},
   "source": [
    "#### Bubble Sort Time Complexity\n",
    "```python\n",
    "def bubble_sort(lst):\n",
    "    print(f\"    {lst}\")\n",
    "    for i in range(len(lst)):\n",
    "        for j in range(len(lst) - i  - 1):\n",
    "            if lst[j] > lst[j+1]:\n",
    "                lst[j], lst[j+1] = lst[j+1], lst[j]\n",
    "```"
   ]
  },
  {
   "cell_type": "code",
   "execution_count": 4,
   "id": "5b8b9c9b",
   "metadata": {},
   "outputs": [
    {
     "name": "stdout",
     "output_type": "stream",
     "text": [
      "[10, 50, 20, 5, 25]\n",
      "[10, 20, 50, 5, 25]\n",
      "[5, 10, 20, 50, 25]\n",
      "[5, 10, 20, 25, 50]\n",
      "[5, 10, 20, 25, 50]\n"
     ]
    }
   ],
   "source": [
    "# Insertion Sort Implementation\n",
    "\n",
    "# - You start with an empty left hand and the cards face down on the table.\n",
    "# - You then remove one card at a time from the table\n",
    "# - Insert it into the correct position in your left hand, maintaining the cards in your left hand sorted.\n",
    "\n",
    "def insertion_sort(arr):\n",
    "    for i in range(1, len(arr)):\n",
    "        current_value = arr[i]\n",
    "        comparison_index = i - 1\n",
    "        while comparison_index >= 0 and arr[comparison_index] > current_value:\n",
    "            arr[comparison_index + 1] = arr[comparison_index]\n",
    "            comparison_index -= 1\n",
    "        arr[comparison_index + 1] = current_value\n",
    "        print(arr)\n",
    "    print(arr)\n",
    "\n",
    "my_list = [10, 50, 20, 5, 25]\n",
    "insertion_sort(my_list)"
   ]
  },
  {
   "cell_type": "markdown",
   "id": "273d90e3",
   "metadata": {},
   "source": [
    "#### Insertion Sort Exercises\n",
    "- Write a function `insertion_sort(arr)` that sorts an array `arr` using Insertion Sort. Use only while loops within the function.\n",
    "\n",
    "- Write a function `insertion_sort(arr)` that sorts an array `arr` using Insertion Sort. Use only for loops within the function.\n",
    "\n",
    "- Write a function `sort_string(s)` that sorts the characters in a string `s` using Insertion Sort and returns the sorted string."
   ]
  },
  {
   "cell_type": "markdown",
   "id": "1ad338fd",
   "metadata": {},
   "source": [
    "### **Selection Sort**\n",
    "\n",
    "Selection Sort is a simple and intuitive sorting algorithm that\n",
    "- Divides the input list into a sorted and an unsorted region.\n",
    "- Repeatedly select the smallest (or largest, depending on the sorting order) element from the unsorted region\n",
    "- Swap it with the first element of the unsorted region."
   ]
  },
  {
   "cell_type": "markdown",
   "id": "92cb5e6e",
   "metadata": {},
   "source": [
    "#### Steps\n",
    "\n",
    "1. **Initialization**: Start with the entire list considered as unsorted.\n",
    "\n",
    "2. **Finding the Minimum**: Iterate through the unsorted region to find the minimum element.\n",
    "\n",
    "3. **Swapping**: Swap the minimum element with the first element of the unsorted region.\n",
    "\n",
    "4. **Repeat**: Continue the process for the remaining unsorted region until the list is sorted."
   ]
  },
  {
   "cell_type": "code",
   "execution_count": 6,
   "id": "54249899",
   "metadata": {},
   "outputs": [
    {
     "name": "stdout",
     "output_type": "stream",
     "text": [
      "Sorted array: [11, 12, 22, 25, 64]\n"
     ]
    }
   ],
   "source": [
    "def selection_sort(arr):\n",
    "    arr_len = len(arr)\n",
    "    for i in range(arr_len):\n",
    "        min_index = i\n",
    "        for j in range(i+1, arr_len):\n",
    "            if arr[j] < arr[min_index]:\n",
    "                min_index = j\n",
    "        arr[i], arr[min_index] = arr[min_index], arr[i]\n",
    "\n",
    "# Example usage:\n",
    "arr = [64, 25, 12, 22, 11]\n",
    "selection_sort(arr)\n",
    "print(\"Sorted array:\", arr)"
   ]
  },
  {
   "cell_type": "markdown",
   "id": "db9d1f71",
   "metadata": {},
   "source": [
    "#### Selection Sort Time Complexity\n",
    "**Time Complexity**: $O(n^2)$ in all cases (worst-case, average-case, and best-case scenarios).\n",
    "\n",
    "Mathematically:\n",
    "Total operations = $n + (n-1) + (n-2) + ... + 1$\n",
    "\n",
    "Arithmetic progression sum =\n",
    "$$ \\frac{n}{2}\\left(a_n + a_1\\right) $$\n",
    "where $a_n$ and $a_1$ are the first and last elements\n",
    "\n",
    "$$n + (n-1) + (n-2) + ... + 1 = \\frac{n}{2}(n + 1) = \\frac{1}{2}\\left(n^2+n\\right)$$\n",
    "\n",
    "\n",
    "- **Space Complexity**: $O(1)$ additional space, as it sorts in-place.\n",
    "\n",
    "Selection Sort is straightforward to implement and understand, making it suitable for educational purposes or situations where simplicity is preferred. However, it is less efficient compared to more advanced sorting algorithms like Merge Sort or Quick Sort, especially for larger data sets."
   ]
  },
  {
   "cell_type": "markdown",
   "id": "595d57da",
   "metadata": {},
   "source": [
    "### Selection Sort Exercises\n",
    "\n",
    "- Change the selection sort function to sort from highest to lowest i.e. `selection_sort_desc([5, 20, -1, 7, 10]) -> [20, 10, 7, 5, -1]\n",
    "\n",
    "- Use the reverse list function to change the output of the original `selection_sort` to go from highest to lowest like in the first exercise\n",
    "\n",
    "- Write a function `sort_string(s)` that sorts the characters in a string `s` using Selection Sort and returns the sorted string.\n"
   ]
  },
  {
   "cell_type": "code",
   "execution_count": 11,
   "id": "341e5857",
   "metadata": {},
   "outputs": [
    {
     "name": "stdout",
     "output_type": "stream",
     "text": [
      "Sorted array: [64, 25, 22, 12, 11]\n"
     ]
    }
   ],
   "source": [
    "def selection_sort_desc(arr):\n",
    "    arr_len = len(arr)\n",
    "    for i in range(arr_len):\n",
    "        max_index = i\n",
    "        for j in range(i+1, arr_len):\n",
    "            if arr[j] > arr[max_index]:\n",
    "                max_index = j\n",
    "        arr[i], arr[max_index] = arr[max_index], arr[i]\n",
    "\n",
    "# Example usage:\n",
    "arr = [64, 25, 12, 22, 11]\n",
    "selection_sort_desc(arr)\n",
    "print(\"Sorted array:\", arr)"
   ]
  },
  {
   "cell_type": "markdown",
   "id": "e3d29399",
   "metadata": {},
   "source": [
    "### Time Complexities\n",
    "\n",
    "- Bubble Sort O(n^2)\n",
    "- Insertion Sort O(n^2)\n",
    "- Selection Sort O(n^2)"
   ]
  },
  {
   "cell_type": "markdown",
   "id": "621f1b67",
   "metadata": {},
   "source": [
    "## QuickSort\n",
    "\n",
    "Quicksort is a highly efficient sorting algorithm and is based on the divide-and-conquer strategy.\n",
    "\n",
    "### Steps\n",
    "\n",
    "Quicksort follows these steps:\n",
    "\n",
    "1. **Choose a Pivot**: Select an element from the array as the pivot. There are various ways to choose a pivot, such as picking\n",
    "\n",
    "    - The first element or\n",
    "    - The last element or\n",
    "    - A random element or\n",
    "    - Using a median-of-three approach.\n",
    "\n",
    "2. **Partitioning**: Rearrange the array so that\n",
    "\n",
    "    - All elements less than the pivot are on the left side of the pivot\n",
    "    - All elements greater than the pivot are on the right side.\n",
    "    - After partitioning, the pivot is in its final sorted position.\n",
    "\n",
    "3. **Recursively Apply**: Recursively apply the above steps to the sub-arrays of elements with smaller and greater values."
   ]
  },
  {
   "cell_type": "code",
   "execution_count": null,
   "id": "c12745ac",
   "metadata": {},
   "outputs": [
    {
     "name": "stdout",
     "output_type": "stream",
     "text": [
      "Sorted array: [10, 30, 40, 50, 70, 80, 90]\n"
     ]
    }
   ],
   "source": [
    "def quicksort(arr):\n",
    "    if len(arr) <= 1:\n",
    "        return arr\n",
    "    pivot = arr[0]\n",
    "    left_arr = [item for item in arr if item < pivot]\n",
    "    right_arr = [item for item in arr if item > pivot]\n",
    "    middle_arr = [item for item in arr if item == pivot]\n",
    "\n",
    "    return quicksort(left_arr) + middle_arr + quicksort(right_arr)\n",
    "\n",
    "\n",
    "arr = [10, 80, 30, 90, 40, 50, 70]\n",
    "sorted_arr = quicksort(arr)\n",
    "print(\"Sorted array:\", sorted_arr)"
   ]
  },
  {
   "cell_type": "markdown",
   "id": "7b48689e",
   "metadata": {},
   "source": [
    "- Change the quicksort algorithm to take an additional argument called pivot_position\n",
    "    - name of the function should be `quicksort2`\n",
    "    - Call it with e.g. `quicksort2(arr, \"middle\")`\n",
    "    - if pivot_position == \"first\", choose the first element as pivot\n",
    "    - if pivot_position == \"middle\", choose the middle element as pivot\n",
    "    - if pivot_position == \"last\", choose the last element as pivot"
   ]
  },
  {
   "cell_type": "code",
   "execution_count": null,
   "id": "e03da50f",
   "metadata": {},
   "outputs": [],
   "source": []
  },
  {
   "cell_type": "markdown",
   "id": "38bf567b",
   "metadata": {},
   "source": [
    "- **Time Complexity**: \n",
    "  - $O(n \\log n)$ on average, where $n$ is the number of elements.\n",
    "  - $O(n^2)$ in the worst-case scenario (rare), typically when the pivot selection is poor (e.g., already sorted array).\n",
    "Mathematically:\n",
    "   -  Outer loop will be on average $\\log(n)$ for sorted array, $n$ for unsorted array, first element pivot\n",
    "   -  Inner loop is on order $n$\n",
    "   -  Average is $O(n*\\log(n))$ and worst-case $O(n*n)$\n",
    "- **Space Complexity**: $O(\\log n)$ additional space for the recursive call stack."
   ]
  },
  {
   "cell_type": "markdown",
   "id": "8b90fd80",
   "metadata": {},
   "source": []
  }
 ],
 "metadata": {
  "kernelspec": {
   "display_name": "py3",
   "language": "python",
   "name": "python3"
  },
  "language_info": {
   "codemirror_mode": {
    "name": "ipython",
    "version": 3
   },
   "file_extension": ".py",
   "mimetype": "text/x-python",
   "name": "python",
   "nbconvert_exporter": "python",
   "pygments_lexer": "ipython3",
   "version": "3.13.5"
  }
 },
 "nbformat": 4,
 "nbformat_minor": 5
}
